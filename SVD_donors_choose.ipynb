{
 "cells": [
  {
   "cell_type": "markdown",
   "metadata": {
    "colab": {},
    "colab_type": "code",
    "id": "3ZMzThodv4T7"
   },
   "source": [
    "# SVD on Donors Choose dataset"
   ]
  },
  {
   "cell_type": "markdown",
   "metadata": {},
   "source": [
    "DonorsChoose.org receives hundreds of thousands of project proposals each year for classroom projects in need of funding. Right now, a large number of volunteers is needed to manually screen each submission before it's approved to be posted on the DonorsChoose.org website. Next year, DonorsChoose.org expects to receive close to 500,000 project proposals. As a result, there are three main problems they need to solve: How to scale current manual processes and resources to screen 500,000 projects so that they can be posted as quickly and as efficiently as possible How to increase the consistency of project vetting across different volunteers to improve the experience for teachers How to focus volunteer time on the applications that need the most assistance\n",
    "\n",
    "The goal of the competition is to predict whether or not a DonorsChoose.org project proposal submitted by a teacher will be approved, using the text of project descriptions as well as additional metadata about the project, teacher, and school. DonorsChoose.org can then use this information to identify projects most likely to need further review before approval."
   ]
  },
  {
   "cell_type": "code",
   "execution_count": 1,
   "metadata": {},
   "outputs": [],
   "source": [
    "%matplotlib inline\n",
    "import warnings\n",
    "warnings.filterwarnings(\"ignore\")\n",
    "\n",
    "import sqlite3\n",
    "import pandas as pd\n",
    "import numpy as np\n",
    "import nltk\n",
    "import string\n",
    "import matplotlib.pyplot as plt\n",
    "import seaborn as sns\n",
    "from sklearn.feature_extraction.text import TfidfTransformer\n",
    "from sklearn.feature_extraction.text import TfidfVectorizer\n",
    "\n",
    "from sklearn.feature_extraction.text import CountVectorizer\n",
    "from sklearn.metrics import confusion_matrix\n",
    "from sklearn import metrics\n",
    "from sklearn.metrics import roc_curve, auc\n",
    "from nltk.stem.porter import PorterStemmer\n",
    "\n",
    "import re\n",
    "# Tutorial about Python regular expressions: https://pymotw.com/2/re/\n",
    "import string\n",
    "from nltk.corpus import stopwords\n",
    "from nltk.stem import PorterStemmer\n",
    "from nltk.stem.wordnet import WordNetLemmatizer\n",
    "\n",
    "from gensim.models import Word2Vec\n",
    "from gensim.models import KeyedVectors\n",
    "import pickle\n",
    "\n",
    "from tqdm import tqdm\n",
    "import os\n",
    "import chart_studio.plotly as py\n",
    "from scipy.sparse import hstack\n",
    "import chart_studio.plotly as py\n",
    "\n",
    "from sklearn.feature_extraction.text import CountVectorizer\n",
    "from sklearn.metrics import confusion_matrix\n",
    "from sklearn import metrics\n",
    "from sklearn.metrics import roc_curve, auc\n",
    "\n",
    "\n",
    "from collections import Counter"
   ]
  },
  {
   "cell_type": "markdown",
   "metadata": {},
   "source": [
    "## 1. LOAD AND PROCESS DATA"
   ]
  },
  {
   "cell_type": "markdown",
   "metadata": {},
   "source": [
    "### 1.1 Reading Data"
   ]
  },
  {
   "cell_type": "code",
   "execution_count": 2,
   "metadata": {},
   "outputs": [
    {
     "data": {
      "text/plain": [
       "Index(['Unnamed: 0', 'id', 'teacher_id', 'teacher_prefix', 'school_state',\n",
       "       'project_submitted_datetime', 'project_grade_category',\n",
       "       'project_subject_categories', 'project_subject_subcategories',\n",
       "       'project_title', 'project_essay_1', 'project_essay_2',\n",
       "       'project_essay_3', 'project_essay_4', 'project_resource_summary',\n",
       "       'teacher_number_of_previously_posted_projects', 'project_is_approved'],\n",
       "      dtype='object')"
      ]
     },
     "execution_count": 2,
     "metadata": {},
     "output_type": "execute_result"
    }
   ],
   "source": [
    "data=pd.read_csv(\"train_data.csv\",nrows=50000)\n",
    "resource_data=pd.read_csv(\"resources.csv\")\n",
    "data.columns"
   ]
  },
  {
   "cell_type": "code",
   "execution_count": 3,
   "metadata": {},
   "outputs": [],
   "source": [
    "price_data=resource_data.groupby('id').agg({'price':'sum', 'quantity':'sum'}).reset_index()"
   ]
  },
  {
   "cell_type": "code",
   "execution_count": 4,
   "metadata": {},
   "outputs": [],
   "source": [
    "project_data=pd.merge(data, price_data, on='id', how='left')"
   ]
  },
  {
   "cell_type": "code",
   "execution_count": 5,
   "metadata": {},
   "outputs": [
    {
     "data": {
      "text/plain": [
       "Index(['Unnamed: 0', 'id', 'teacher_id', 'teacher_prefix', 'school_state',\n",
       "       'project_submitted_datetime', 'project_grade_category',\n",
       "       'project_subject_categories', 'project_subject_subcategories',\n",
       "       'project_title', 'project_essay_1', 'project_essay_2',\n",
       "       'project_essay_3', 'project_essay_4', 'project_resource_summary',\n",
       "       'teacher_number_of_previously_posted_projects', 'project_is_approved',\n",
       "       'price', 'quantity'],\n",
       "      dtype='object')"
      ]
     },
     "execution_count": 5,
     "metadata": {},
     "output_type": "execute_result"
    }
   ],
   "source": [
    "project_data.columns"
   ]
  },
  {
   "cell_type": "markdown",
   "metadata": {},
   "source": [
    "### 1.2 process Project Essay"
   ]
  },
  {
   "cell_type": "code",
   "execution_count": 6,
   "metadata": {},
   "outputs": [
    {
     "data": {
      "text/html": [
       "<div>\n",
       "<style scoped>\n",
       "    .dataframe tbody tr th:only-of-type {\n",
       "        vertical-align: middle;\n",
       "    }\n",
       "\n",
       "    .dataframe tbody tr th {\n",
       "        vertical-align: top;\n",
       "    }\n",
       "\n",
       "    .dataframe thead th {\n",
       "        text-align: right;\n",
       "    }\n",
       "</style>\n",
       "<table border=\"1\" class=\"dataframe\">\n",
       "  <thead>\n",
       "    <tr style=\"text-align: right;\">\n",
       "      <th></th>\n",
       "      <th>Unnamed: 0</th>\n",
       "      <th>id</th>\n",
       "      <th>teacher_id</th>\n",
       "      <th>teacher_prefix</th>\n",
       "      <th>school_state</th>\n",
       "      <th>project_submitted_datetime</th>\n",
       "      <th>project_grade_category</th>\n",
       "      <th>project_subject_categories</th>\n",
       "      <th>project_subject_subcategories</th>\n",
       "      <th>project_title</th>\n",
       "      <th>project_essay_1</th>\n",
       "      <th>project_essay_2</th>\n",
       "      <th>project_essay_3</th>\n",
       "      <th>project_essay_4</th>\n",
       "      <th>project_resource_summary</th>\n",
       "      <th>teacher_number_of_previously_posted_projects</th>\n",
       "      <th>project_is_approved</th>\n",
       "      <th>price</th>\n",
       "      <th>quantity</th>\n",
       "    </tr>\n",
       "  </thead>\n",
       "  <tbody>\n",
       "    <tr>\n",
       "      <th>0</th>\n",
       "      <td>160221</td>\n",
       "      <td>p253737</td>\n",
       "      <td>c90749f5d961ff158d4b4d1e7dc665fc</td>\n",
       "      <td>Mrs.</td>\n",
       "      <td>IN</td>\n",
       "      <td>2016-12-05 13:43:57</td>\n",
       "      <td>Grades PreK-2</td>\n",
       "      <td>Literacy &amp; Language</td>\n",
       "      <td>ESL, Literacy</td>\n",
       "      <td>Educational Support for English Learners at Home</td>\n",
       "      <td>My students are English learners that are work...</td>\n",
       "      <td>\\\"The limits of your language are the limits o...</td>\n",
       "      <td>NaN</td>\n",
       "      <td>NaN</td>\n",
       "      <td>My students need opportunities to practice beg...</td>\n",
       "      <td>0</td>\n",
       "      <td>0</td>\n",
       "      <td>154.60</td>\n",
       "      <td>23</td>\n",
       "    </tr>\n",
       "    <tr>\n",
       "      <th>1</th>\n",
       "      <td>140945</td>\n",
       "      <td>p258326</td>\n",
       "      <td>897464ce9ddc600bced1151f324dd63a</td>\n",
       "      <td>Mr.</td>\n",
       "      <td>FL</td>\n",
       "      <td>2016-10-25 09:22:10</td>\n",
       "      <td>Grades 6-8</td>\n",
       "      <td>History &amp; Civics, Health &amp; Sports</td>\n",
       "      <td>Civics &amp; Government, Team Sports</td>\n",
       "      <td>Wanted: Projector for Hungry Learners</td>\n",
       "      <td>Our students arrive to our school eager to lea...</td>\n",
       "      <td>The projector we need for our school is very c...</td>\n",
       "      <td>NaN</td>\n",
       "      <td>NaN</td>\n",
       "      <td>My students need a projector to help with view...</td>\n",
       "      <td>7</td>\n",
       "      <td>1</td>\n",
       "      <td>299.00</td>\n",
       "      <td>1</td>\n",
       "    </tr>\n",
       "    <tr>\n",
       "      <th>2</th>\n",
       "      <td>21895</td>\n",
       "      <td>p182444</td>\n",
       "      <td>3465aaf82da834c0582ebd0ef8040ca0</td>\n",
       "      <td>Ms.</td>\n",
       "      <td>AZ</td>\n",
       "      <td>2016-08-31 12:03:56</td>\n",
       "      <td>Grades 6-8</td>\n",
       "      <td>Health &amp; Sports</td>\n",
       "      <td>Health &amp; Wellness, Team Sports</td>\n",
       "      <td>Soccer Equipment for AWESOME Middle School Stu...</td>\n",
       "      <td>\\r\\n\\\"True champions aren't always the ones th...</td>\n",
       "      <td>The students on the campus come to school know...</td>\n",
       "      <td>NaN</td>\n",
       "      <td>NaN</td>\n",
       "      <td>My students need shine guards, athletic socks,...</td>\n",
       "      <td>1</td>\n",
       "      <td>0</td>\n",
       "      <td>516.85</td>\n",
       "      <td>22</td>\n",
       "    </tr>\n",
       "  </tbody>\n",
       "</table>\n",
       "</div>"
      ],
      "text/plain": [
       "   Unnamed: 0       id                        teacher_id teacher_prefix  \\\n",
       "0      160221  p253737  c90749f5d961ff158d4b4d1e7dc665fc           Mrs.   \n",
       "1      140945  p258326  897464ce9ddc600bced1151f324dd63a            Mr.   \n",
       "2       21895  p182444  3465aaf82da834c0582ebd0ef8040ca0            Ms.   \n",
       "\n",
       "  school_state project_submitted_datetime project_grade_category  \\\n",
       "0           IN        2016-12-05 13:43:57          Grades PreK-2   \n",
       "1           FL        2016-10-25 09:22:10             Grades 6-8   \n",
       "2           AZ        2016-08-31 12:03:56             Grades 6-8   \n",
       "\n",
       "          project_subject_categories     project_subject_subcategories  \\\n",
       "0                Literacy & Language                     ESL, Literacy   \n",
       "1  History & Civics, Health & Sports  Civics & Government, Team Sports   \n",
       "2                    Health & Sports    Health & Wellness, Team Sports   \n",
       "\n",
       "                                       project_title  \\\n",
       "0   Educational Support for English Learners at Home   \n",
       "1              Wanted: Projector for Hungry Learners   \n",
       "2  Soccer Equipment for AWESOME Middle School Stu...   \n",
       "\n",
       "                                     project_essay_1  \\\n",
       "0  My students are English learners that are work...   \n",
       "1  Our students arrive to our school eager to lea...   \n",
       "2  \\r\\n\\\"True champions aren't always the ones th...   \n",
       "\n",
       "                                     project_essay_2 project_essay_3  \\\n",
       "0  \\\"The limits of your language are the limits o...             NaN   \n",
       "1  The projector we need for our school is very c...             NaN   \n",
       "2  The students on the campus come to school know...             NaN   \n",
       "\n",
       "  project_essay_4                           project_resource_summary  \\\n",
       "0             NaN  My students need opportunities to practice beg...   \n",
       "1             NaN  My students need a projector to help with view...   \n",
       "2             NaN  My students need shine guards, athletic socks,...   \n",
       "\n",
       "   teacher_number_of_previously_posted_projects  project_is_approved   price  \\\n",
       "0                                             0                    0  154.60   \n",
       "1                                             7                    1  299.00   \n",
       "2                                             1                    0  516.85   \n",
       "\n",
       "   quantity  \n",
       "0        23  \n",
       "1         1  \n",
       "2        22  "
      ]
     },
     "execution_count": 6,
     "metadata": {},
     "output_type": "execute_result"
    }
   ],
   "source": [
    "project_data.head(3)"
   ]
  },
  {
   "cell_type": "code",
   "execution_count": 7,
   "metadata": {},
   "outputs": [],
   "source": [
    "project_data[\"essay\"] = project_data[\"project_essay_1\"].map(str) +\\\n",
    "                project_data[\"project_essay_2\"].map(str) + \\\n",
    "                project_data[\"project_essay_3\"].map(str) + \\\n",
    "                project_data[\"project_essay_4\"].map(str)"
   ]
  },
  {
   "cell_type": "code",
   "execution_count": 8,
   "metadata": {},
   "outputs": [],
   "source": [
    "import re\n",
    "\n",
    "def decontracted(phrase):\n",
    "    # specific\n",
    "    phrase = re.sub(r\"won't\", \"will not\", phrase)\n",
    "    phrase = re.sub(r\"can\\'t\", \"can not\", phrase)\n",
    "\n",
    "    # general\n",
    "    phrase = re.sub(r\"n\\'t\", \" not\", phrase)\n",
    "    phrase = re.sub(r\"\\'re\", \" are\", phrase)\n",
    "    phrase = re.sub(r\"\\'s\", \" is\", phrase)\n",
    "    phrase = re.sub(r\"\\'d\", \" would\", phrase)\n",
    "    phrase = re.sub(r\"\\'ll\", \" will\", phrase)\n",
    "    phrase = re.sub(r\"\\'t\", \" not\", phrase)\n",
    "    phrase = re.sub(r\"\\'ve\", \" have\", phrase)\n",
    "    phrase = re.sub(r\"\\'m\", \" am\", phrase)\n",
    "    return phrase"
   ]
  },
  {
   "cell_type": "code",
   "execution_count": 9,
   "metadata": {},
   "outputs": [],
   "source": [
    "stopwords= ['i', 'me', 'my', 'myself', 'we', 'our', 'ours', 'ourselves', 'you', \"you're\", \"you've\",\\\n",
    "            \"you'll\", \"you'd\", 'your', 'yours', 'yourself', 'yourselves', 'he', 'him', 'his', 'himself', \\\n",
    "            'she', \"she's\", 'her', 'hers', 'herself', 'it', \"it's\", 'its', 'itself', 'they', 'them', 'their',\\\n",
    "            'theirs', 'themselves', 'what', 'which', 'who', 'whom', 'this', 'that', \"that'll\", 'these', 'those', \\\n",
    "            'am', 'is', 'are', 'was', 'were', 'be', 'been', 'being', 'have', 'has', 'had', 'having', 'do', 'does', \\\n",
    "            'did', 'doing', 'a', 'an', 'the', 'and', 'but', 'if', 'or', 'because', 'as', 'until', 'while', 'of', \\\n",
    "            'at', 'by', 'for', 'with', 'about', 'against', 'between', 'into', 'through', 'during', 'before', 'after',\\\n",
    "            'above', 'below', 'to', 'from', 'up', 'down', 'in', 'out', 'on', 'off', 'over', 'under', 'again', 'further',\\\n",
    "            'then', 'once', 'here', 'there', 'when', 'where', 'why', 'how', 'all', 'any', 'both', 'each', 'few', 'more',\\\n",
    "            'most', 'other', 'some', 'such', 'only', 'own', 'same', 'so', 'than', 'too', 'very', \\\n",
    "            's', 't', 'can', 'will', 'just', 'don', \"don't\", 'should', \"should've\", 'now', 'd', 'll', 'm', 'o', 're', \\\n",
    "            've', 'y', 'ain', 'aren', \"aren't\", 'couldn', \"couldn't\", 'didn', \"didn't\", 'doesn', \"doesn't\", 'hadn',\\\n",
    "            \"hadn't\", 'hasn', \"hasn't\", 'haven', \"haven't\", 'isn', \"isn't\", 'ma', 'mightn', \"mightn't\", 'mustn',\\\n",
    "            \"mustn't\", 'needn', \"needn't\", 'shan', \"shan't\", 'shouldn', \"shouldn't\", 'wasn', \"wasn't\", 'weren', \"weren't\", \\\n",
    "            'won', \"won't\", 'wouldn', \"wouldn't\"]"
   ]
  },
  {
   "cell_type": "code",
   "execution_count": 10,
   "metadata": {},
   "outputs": [
    {
     "name": "stderr",
     "output_type": "stream",
     "text": [
      "100%|██████████| 50000/50000 [00:27<00:00, 1847.94it/s]\n"
     ]
    }
   ],
   "source": [
    "from tqdm import tqdm\n",
    "preprocessed_essays = []\n",
    "# tqdm is for printing the status bar\n",
    "for sentance in tqdm(project_data['essay'].values):\n",
    "    sent = decontracted(sentance)\n",
    "    sent = sent.replace('\\\\r', ' ')\n",
    "    sent = sent.replace('\\\\\"', ' ')\n",
    "    sent = sent.replace('\\\\n', ' ')\n",
    "    sent = re.sub('[^A-Za-z0-9]+', ' ', sent)\n",
    "    # https://gist.github.com/sebleier/554280\n",
    "    sent = ' '.join(e for e in sent.split() if e not in stopwords)\n",
    "    preprocessed_essays.append(sent.lower().strip())\n",
    "project_data['cleaned_essay']=preprocessed_essays"
   ]
  },
  {
   "cell_type": "markdown",
   "metadata": {},
   "source": [
    "### 1.2 process Project Title"
   ]
  },
  {
   "cell_type": "code",
   "execution_count": 11,
   "metadata": {},
   "outputs": [
    {
     "name": "stderr",
     "output_type": "stream",
     "text": [
      "100%|██████████| 50000/50000 [00:01<00:00, 38276.23it/s]\n"
     ]
    }
   ],
   "source": [
    "# https://stackoverflow.com/a/47091490/4084039\n",
    "from tqdm import tqdm\n",
    "preprocessed_title = []\n",
    "# tqdm is for printing the status bar\n",
    "for sentance in tqdm(data['project_title'].values):\n",
    "    sent = decontracted(sentance)\n",
    "    sent = sent.replace('\\\\r', ' ')\n",
    "    sent = sent.replace('\\\\\"', ' ')\n",
    "    sent = sent.replace('\\\\n', ' ')\n",
    "    sent = re.sub('[^A-Za-z0-9]+', ' ', sent)\n",
    "    # https://gist.github.com/sebleier/554280\n",
    "    sent = ' '.join(e for e in sent.split() if e not in stopwords)\n",
    "    preprocessed_title.append(sent.lower().strip())\n",
    "project_data['cleaned_project_title']=preprocessed_title"
   ]
  },
  {
   "cell_type": "markdown",
   "metadata": {},
   "source": [
    "### 1.3 teacher_prefix"
   ]
  },
  {
   "cell_type": "code",
   "execution_count": 12,
   "metadata": {},
   "outputs": [
    {
     "data": {
      "text/plain": [
       "Mrs        26140\n",
       "Ms         17936\n",
       "Mr          4859\n",
       "Teacher     1061\n",
       "nan            2\n",
       "Dr             2\n",
       "Name: teacher_prefix, dtype: int64"
      ]
     },
     "execution_count": 12,
     "metadata": {},
     "output_type": "execute_result"
    }
   ],
   "source": [
    "temp1=data.teacher_prefix.apply(lambda x: str(x).replace('.', ''))\n",
    "project_data['teacher_prefix']=temp1\n",
    "project_data['teacher_prefix'].value_counts()\n"
   ]
  },
  {
   "cell_type": "markdown",
   "metadata": {},
   "source": [
    "### 1.4 project grade"
   ]
  },
  {
   "cell_type": "code",
   "execution_count": 13,
   "metadata": {},
   "outputs": [
    {
     "data": {
      "text/plain": [
       "Grades PreK-2    20316\n",
       "Grades 3-5       16968\n",
       "Grades 6-8        7750\n",
       "Grades 9-12       4966\n",
       "Name: project_grade_category, dtype: int64"
      ]
     },
     "execution_count": 13,
     "metadata": {},
     "output_type": "execute_result"
    }
   ],
   "source": [
    "project_data.project_grade_category.value_counts()"
   ]
  },
  {
   "cell_type": "code",
   "execution_count": 14,
   "metadata": {},
   "outputs": [],
   "source": [
    "grade_list=[]\n",
    "for i in project_data['project_grade_category'].values:\n",
    "    i=i.replace(' ','_')\n",
    "    i=i.replace('-','_')\n",
    "    grade_list.append(i.strip()) \n",
    "    \n",
    "    \n",
    "project_data['project_grade_category']=grade_list  \n",
    "       \n",
    "   "
   ]
  },
  {
   "cell_type": "code",
   "execution_count": 15,
   "metadata": {},
   "outputs": [
    {
     "data": {
      "text/plain": [
       "Grades_PreK_2    20316\n",
       "Grades_3_5       16968\n",
       "Grades_6_8        7750\n",
       "Grades_9_12       4966\n",
       "Name: project_grade_category, dtype: int64"
      ]
     },
     "execution_count": 15,
     "metadata": {},
     "output_type": "execute_result"
    }
   ],
   "source": [
    "project_data['project_grade_category'].value_counts()"
   ]
  },
  {
   "cell_type": "markdown",
   "metadata": {},
   "source": [
    "### 1.5 project_subject_categories"
   ]
  },
  {
   "cell_type": "code",
   "execution_count": 16,
   "metadata": {},
   "outputs": [],
   "source": [
    "catogories = list(project_data['project_subject_categories'].values)\n",
    "# remove special characters from list of strings python: https://stackoverflow.com/a/47301924/4084039\n",
    "\n",
    "# https://www.geeksforgeeks.org/removing-stop-words-nltk-python/\n",
    "# https://stackoverflow.com/questions/23669024/how-to-strip-a-specific-word-from-a-string\n",
    "# https://stackoverflow.com/questions/8270092/remove-all-whitespace-in-a-string-in-python\n",
    "cat_list = []\n",
    "for i in catogories:\n",
    "    temp = \"\"\n",
    "    # consider we have text like this \"Math & Science, Warmth, Care & Hunger\"\n",
    "    for j in i.split(','): # it will split it in three parts [\"Math & Science\", \"Warmth\", \"Care & Hunger\"]\n",
    "        if 'The' in j.split(): # this will split each of the catogory based on space \"Math & Science\"=> \"Math\",\"&\", \"Science\"\n",
    "            j=j.replace('The','') # if we have the words \"The\" we are going to replace it with ''(i.e removing 'The')\n",
    "        j = j.replace(' ','') # we are placeing all the ' '(space) with ''(empty) ex:\"Math & Science\"=>\"Math&Science\"\n",
    "        temp+=j.strip()+\" \" #\" abc \".strip() will return \"abc\", remove the trailing spaces\n",
    "        temp = temp.replace('&','_') # we are replacing the & value into \n",
    "    cat_list.append(temp.strip())\n",
    "    \n",
    "project_data['clean_categories'] = cat_list\n",
    "project_data.drop(['project_subject_categories'], axis=1, inplace=True)\n",
    "\n",
    "from collections import Counter\n",
    "my_counter = Counter()\n",
    "for word in project_data['clean_categories'].values:\n",
    "    my_counter.update(word.split())\n",
    "\n",
    "cat_dict = dict(my_counter)\n",
    "sorted_cat_dict = dict(sorted(cat_dict.items(), key=lambda kv: kv[1]))"
   ]
  },
  {
   "cell_type": "markdown",
   "metadata": {},
   "source": [
    "### 1.6 project_subject_subcategories"
   ]
  },
  {
   "cell_type": "code",
   "execution_count": 17,
   "metadata": {},
   "outputs": [],
   "source": [
    "sub_catogories = list(project_data['project_subject_subcategories'].values)\n",
    "# remove special characters from list of strings python: https://stackoverflow.com/a/47301924/4084039\n",
    "\n",
    "# https://www.geeksforgeeks.org/removing-stop-words-nltk-python/\n",
    "# https://stackoverflow.com/questions/23669024/how-to-strip-a-specific-word-from-a-string\n",
    "# https://stackoverflow.com/questions/8270092/remove-all-whitespace-in-a-string-in-python\n",
    "\n",
    "sub_cat_list = []\n",
    "for i in sub_catogories:\n",
    "    temp = \"\"\n",
    "    # consider we have text like this \"Math & Science, Warmth, Care & Hunger\"\n",
    "    for j in i.split(','): # it will split it in three parts [\"Math & Science\", \"Warmth\", \"Care & Hunger\"]\n",
    "        if 'The' in j.split(): # this will split each of the catogory based on space \"Math & Science\"=> \"Math\",\"&\", \"Science\"\n",
    "            j=j.replace('The','') # if we have the words \"The\" we are going to replace it with ''(i.e removing 'The')\n",
    "        j = j.replace(' ','') # we are placeing all the ' '(space) with ''(empty) ex:\"Math & Science\"=>\"Math&Science\"\n",
    "        temp +=j.strip()+\" \"#\" abc \".strip() will return \"abc\", remove the trailing spaces\n",
    "        temp = temp.replace('&','_')\n",
    "    sub_cat_list.append(temp.strip())\n",
    "\n",
    "project_data['clean_subcategories'] = sub_cat_list\n",
    "project_data.drop(['project_subject_subcategories'], axis=1, inplace=True)\n",
    "\n",
    "# count of all the words in corpus python: https://stackoverflow.com/a/22898595/4084039\n",
    "my_counter = Counter()\n",
    "for word in project_data['clean_subcategories'].values:\n",
    "    my_counter.update(word.split())\n",
    "    \n",
    "sub_cat_dict = dict(my_counter)\n",
    "sorted_sub_cat_dict = dict(sorted(sub_cat_dict.items(), key=lambda kv: kv[1]))"
   ]
  },
  {
   "cell_type": "markdown",
   "metadata": {},
   "source": [
    "### 1.7 counting words in title"
   ]
  },
  {
   "cell_type": "code",
   "execution_count": 18,
   "metadata": {},
   "outputs": [],
   "source": [
    "#https://stackoverflow.com/questions/49984905/count-number-of-words-per-row\n",
    "project_data['totalwords_title'] = project_data['cleaned_project_title'].str.split().str.len()"
   ]
  },
  {
   "cell_type": "markdown",
   "metadata": {},
   "source": [
    "### 1.8 number of words in the essay"
   ]
  },
  {
   "cell_type": "code",
   "execution_count": 19,
   "metadata": {},
   "outputs": [],
   "source": [
    "project_data['totalwords_essay'] = project_data['cleaned_essay'].str.split().str.len()"
   ]
  },
  {
   "cell_type": "markdown",
   "metadata": {},
   "source": [
    "### 1.9 sentiment score's of each of the essay"
   ]
  },
  {
   "cell_type": "code",
   "execution_count": 20,
   "metadata": {},
   "outputs": [],
   "source": [
    "from vaderSentiment.vaderSentiment import SentimentIntensityAnalyzer\n",
    "analyser = SentimentIntensityAnalyzer()\n",
    "neg=[]\n",
    "compound=[]\n",
    "pos=[]\n",
    "neu=[]\n",
    "for sent in (project_data['cleaned_essay'].values):\n",
    "    score = analyser.polarity_scores(sent)\n",
    "    neg.append(score.get('neg'))\n",
    "    neu.append(score.get('neu'))\n",
    "    pos.append(score.get('pos'))\n",
    "    compound.append(score.get('compound'))\n",
    "project_data['neg']=neg\n",
    "project_data['neu']=neu\n",
    "project_data['pos']=pos\n",
    "project_data['compound']=compound"
   ]
  },
  {
   "cell_type": "markdown",
   "metadata": {},
   "source": [
    "### 1.10 droping unnecesarry columns"
   ]
  },
  {
   "cell_type": "code",
   "execution_count": 21,
   "metadata": {
    "scrolled": true
   },
   "outputs": [],
   "source": [
    "project_data.drop(['project_title'], axis=1, inplace=True)\n",
    "project_data.drop(['project_essay_1'], axis=1, inplace=True)\n",
    "project_data.drop(['project_essay_2'], axis=1, inplace=True)\n",
    "project_data.drop(['project_essay_3'], axis=1, inplace=True)\n",
    "project_data.drop(['project_essay_4'], axis=1, inplace=True)"
   ]
  },
  {
   "cell_type": "markdown",
   "metadata": {},
   "source": [
    "### 1.11 Concate Essay and title"
   ]
  },
  {
   "cell_type": "code",
   "execution_count": 22,
   "metadata": {},
   "outputs": [],
   "source": [
    "project_data['essay_title']=project_data['cleaned_essay']+\" \"+project_data['cleaned_project_title']\n",
    "essay_title=project_data['essay_title']"
   ]
  },
  {
   "cell_type": "markdown",
   "metadata": {},
   "source": [
    "### 1.12 TFIDF vectorizer of concatinated Essat_titile"
   ]
  },
  {
   "cell_type": "code",
   "execution_count": 23,
   "metadata": {},
   "outputs": [],
   "source": [
    "#https://stackoverflow.com/questions/48431173/is-there-a-way-to-get-only-the-idf-values-of-words-using-scikit-or-any-other-pyt\n",
    "\n",
    "tf = TfidfVectorizer(use_idf=True,min_df=10)\n",
    "tf.fit_transform(project_data['essay_title'].values)\n",
    "feature = tf.get_feature_names()\n",
    "\n",
    "\n",
    "idf = tf.idf_ #print numerical idf\n",
    "\n",
    "indexes = np.argsort(idf)[::-1] #sorting as per value w.r.t indexes\n",
    "indexes = indexes[0:2000]\n",
    "idf_feature=[]\n",
    "fet_2000=[]\n",
    "for i in indexes:\n",
    "    fet_2000.append(feature[i])\n",
    "    idf_feature.append([feature[i],idf[i]])\n"
   ]
  },
  {
   "cell_type": "code",
   "execution_count": 24,
   "metadata": {},
   "outputs": [
    {
     "data": {
      "text/plain": [
       "2000"
      ]
     },
     "execution_count": 24,
     "metadata": {},
     "output_type": "execute_result"
    }
   ],
   "source": [
    "len(fet_2000)"
   ]
  },
  {
   "cell_type": "markdown",
   "metadata": {},
   "source": [
    "### 1.13 Co-occurance matrix"
   ]
  },
  {
   "cell_type": "code",
   "execution_count": 25,
   "metadata": {},
   "outputs": [],
   "source": [
    "def get_co_occur_matrix(data, vocab, context_window=5):\n",
    "    a = pd.DataFrame(np.zeros((len(vocab), len(vocab))), index=vocab, columns=vocab)\n",
    "    for review in data:\n",
    "        words = review.split()\n",
    "        for idx in range(len(words)):\n",
    "            if a.get(words[idx]) is None:\n",
    "                continue\n",
    "            for i in range(1, context_window+1):\n",
    "                if idx-i >= 0:\n",
    "                    if a.get(words[idx-i]) is not None:\n",
    "                        a[words[idx-i]].loc[words[idx]] = a.get(words[idx-i]).loc[words[idx]] + 1\n",
    "                        a[words[idx]].loc[words[idx-i]] = a.get(words[idx]).loc[words[idx-i]] + 1\n",
    "                if idx+i < len(words):\n",
    "                    if a.get(words[idx+i]) is not None:\n",
    "                        a[words[idx+i]].loc[words[idx]] = a.get(words[idx+i]).loc[words[idx]] + 1\n",
    "                        a[words[idx]].loc[words[idx+i]] = a.get(words[idx]).loc[words[idx+i]] + 1\n",
    "    np.fill_diagonal(a.values, 0)\n",
    "    return a\n",
    "\n",
    "co_matrix = get_co_occur_matrix(project_data['essay_title'], fet_2000)"
   ]
  },
  {
   "cell_type": "code",
   "execution_count": 26,
   "metadata": {},
   "outputs": [
    {
     "data": {
      "text/html": [
       "<div>\n",
       "<style scoped>\n",
       "    .dataframe tbody tr th:only-of-type {\n",
       "        vertical-align: middle;\n",
       "    }\n",
       "\n",
       "    .dataframe tbody tr th {\n",
       "        vertical-align: top;\n",
       "    }\n",
       "\n",
       "    .dataframe thead th {\n",
       "        text-align: right;\n",
       "    }\n",
       "</style>\n",
       "<table border=\"1\" class=\"dataframe\">\n",
       "  <thead>\n",
       "    <tr style=\"text-align: right;\">\n",
       "      <th></th>\n",
       "      <th>kelly</th>\n",
       "      <th>detention</th>\n",
       "      <th>devises</th>\n",
       "      <th>devotion</th>\n",
       "      <th>symphonic</th>\n",
       "      <th>dilemmas</th>\n",
       "      <th>susceptible</th>\n",
       "      <th>disappearing</th>\n",
       "      <th>ditching</th>\n",
       "      <th>sunday</th>\n",
       "      <th>...</th>\n",
       "      <th>keepers</th>\n",
       "      <th>medias</th>\n",
       "      <th>shovels</th>\n",
       "      <th>footrest</th>\n",
       "      <th>zoned</th>\n",
       "      <th>heal</th>\n",
       "      <th>royal</th>\n",
       "      <th>rub</th>\n",
       "      <th>ordinarily</th>\n",
       "      <th>moderately</th>\n",
       "    </tr>\n",
       "  </thead>\n",
       "  <tbody>\n",
       "    <tr>\n",
       "      <th>kelly</th>\n",
       "      <td>0.0</td>\n",
       "      <td>0.0</td>\n",
       "      <td>0.0</td>\n",
       "      <td>0.0</td>\n",
       "      <td>0.0</td>\n",
       "      <td>0.0</td>\n",
       "      <td>0.0</td>\n",
       "      <td>0.0</td>\n",
       "      <td>0.0</td>\n",
       "      <td>0.0</td>\n",
       "      <td>...</td>\n",
       "      <td>0.0</td>\n",
       "      <td>0.0</td>\n",
       "      <td>0.0</td>\n",
       "      <td>0.0</td>\n",
       "      <td>0.0</td>\n",
       "      <td>0.0</td>\n",
       "      <td>0.0</td>\n",
       "      <td>0.0</td>\n",
       "      <td>0.0</td>\n",
       "      <td>0.0</td>\n",
       "    </tr>\n",
       "    <tr>\n",
       "      <th>detention</th>\n",
       "      <td>0.0</td>\n",
       "      <td>0.0</td>\n",
       "      <td>0.0</td>\n",
       "      <td>0.0</td>\n",
       "      <td>0.0</td>\n",
       "      <td>0.0</td>\n",
       "      <td>0.0</td>\n",
       "      <td>0.0</td>\n",
       "      <td>0.0</td>\n",
       "      <td>0.0</td>\n",
       "      <td>...</td>\n",
       "      <td>0.0</td>\n",
       "      <td>0.0</td>\n",
       "      <td>0.0</td>\n",
       "      <td>0.0</td>\n",
       "      <td>0.0</td>\n",
       "      <td>0.0</td>\n",
       "      <td>0.0</td>\n",
       "      <td>0.0</td>\n",
       "      <td>0.0</td>\n",
       "      <td>0.0</td>\n",
       "    </tr>\n",
       "    <tr>\n",
       "      <th>devises</th>\n",
       "      <td>0.0</td>\n",
       "      <td>0.0</td>\n",
       "      <td>0.0</td>\n",
       "      <td>0.0</td>\n",
       "      <td>0.0</td>\n",
       "      <td>0.0</td>\n",
       "      <td>0.0</td>\n",
       "      <td>0.0</td>\n",
       "      <td>0.0</td>\n",
       "      <td>0.0</td>\n",
       "      <td>...</td>\n",
       "      <td>0.0</td>\n",
       "      <td>0.0</td>\n",
       "      <td>0.0</td>\n",
       "      <td>0.0</td>\n",
       "      <td>0.0</td>\n",
       "      <td>0.0</td>\n",
       "      <td>0.0</td>\n",
       "      <td>0.0</td>\n",
       "      <td>0.0</td>\n",
       "      <td>0.0</td>\n",
       "    </tr>\n",
       "    <tr>\n",
       "      <th>devotion</th>\n",
       "      <td>0.0</td>\n",
       "      <td>0.0</td>\n",
       "      <td>0.0</td>\n",
       "      <td>0.0</td>\n",
       "      <td>0.0</td>\n",
       "      <td>0.0</td>\n",
       "      <td>0.0</td>\n",
       "      <td>0.0</td>\n",
       "      <td>0.0</td>\n",
       "      <td>0.0</td>\n",
       "      <td>...</td>\n",
       "      <td>0.0</td>\n",
       "      <td>0.0</td>\n",
       "      <td>0.0</td>\n",
       "      <td>0.0</td>\n",
       "      <td>0.0</td>\n",
       "      <td>0.0</td>\n",
       "      <td>0.0</td>\n",
       "      <td>0.0</td>\n",
       "      <td>0.0</td>\n",
       "      <td>0.0</td>\n",
       "    </tr>\n",
       "    <tr>\n",
       "      <th>symphonic</th>\n",
       "      <td>0.0</td>\n",
       "      <td>0.0</td>\n",
       "      <td>0.0</td>\n",
       "      <td>0.0</td>\n",
       "      <td>0.0</td>\n",
       "      <td>0.0</td>\n",
       "      <td>0.0</td>\n",
       "      <td>0.0</td>\n",
       "      <td>0.0</td>\n",
       "      <td>0.0</td>\n",
       "      <td>...</td>\n",
       "      <td>0.0</td>\n",
       "      <td>0.0</td>\n",
       "      <td>0.0</td>\n",
       "      <td>0.0</td>\n",
       "      <td>0.0</td>\n",
       "      <td>0.0</td>\n",
       "      <td>0.0</td>\n",
       "      <td>0.0</td>\n",
       "      <td>0.0</td>\n",
       "      <td>0.0</td>\n",
       "    </tr>\n",
       "    <tr>\n",
       "      <th>...</th>\n",
       "      <td>...</td>\n",
       "      <td>...</td>\n",
       "      <td>...</td>\n",
       "      <td>...</td>\n",
       "      <td>...</td>\n",
       "      <td>...</td>\n",
       "      <td>...</td>\n",
       "      <td>...</td>\n",
       "      <td>...</td>\n",
       "      <td>...</td>\n",
       "      <td>...</td>\n",
       "      <td>...</td>\n",
       "      <td>...</td>\n",
       "      <td>...</td>\n",
       "      <td>...</td>\n",
       "      <td>...</td>\n",
       "      <td>...</td>\n",
       "      <td>...</td>\n",
       "      <td>...</td>\n",
       "      <td>...</td>\n",
       "      <td>...</td>\n",
       "    </tr>\n",
       "    <tr>\n",
       "      <th>heal</th>\n",
       "      <td>0.0</td>\n",
       "      <td>0.0</td>\n",
       "      <td>0.0</td>\n",
       "      <td>0.0</td>\n",
       "      <td>0.0</td>\n",
       "      <td>0.0</td>\n",
       "      <td>0.0</td>\n",
       "      <td>0.0</td>\n",
       "      <td>0.0</td>\n",
       "      <td>0.0</td>\n",
       "      <td>...</td>\n",
       "      <td>0.0</td>\n",
       "      <td>0.0</td>\n",
       "      <td>0.0</td>\n",
       "      <td>0.0</td>\n",
       "      <td>0.0</td>\n",
       "      <td>0.0</td>\n",
       "      <td>0.0</td>\n",
       "      <td>0.0</td>\n",
       "      <td>0.0</td>\n",
       "      <td>0.0</td>\n",
       "    </tr>\n",
       "    <tr>\n",
       "      <th>royal</th>\n",
       "      <td>0.0</td>\n",
       "      <td>0.0</td>\n",
       "      <td>0.0</td>\n",
       "      <td>0.0</td>\n",
       "      <td>0.0</td>\n",
       "      <td>0.0</td>\n",
       "      <td>0.0</td>\n",
       "      <td>0.0</td>\n",
       "      <td>0.0</td>\n",
       "      <td>0.0</td>\n",
       "      <td>...</td>\n",
       "      <td>0.0</td>\n",
       "      <td>0.0</td>\n",
       "      <td>0.0</td>\n",
       "      <td>0.0</td>\n",
       "      <td>0.0</td>\n",
       "      <td>0.0</td>\n",
       "      <td>0.0</td>\n",
       "      <td>0.0</td>\n",
       "      <td>0.0</td>\n",
       "      <td>0.0</td>\n",
       "    </tr>\n",
       "    <tr>\n",
       "      <th>rub</th>\n",
       "      <td>0.0</td>\n",
       "      <td>0.0</td>\n",
       "      <td>0.0</td>\n",
       "      <td>0.0</td>\n",
       "      <td>0.0</td>\n",
       "      <td>0.0</td>\n",
       "      <td>0.0</td>\n",
       "      <td>0.0</td>\n",
       "      <td>0.0</td>\n",
       "      <td>0.0</td>\n",
       "      <td>...</td>\n",
       "      <td>0.0</td>\n",
       "      <td>0.0</td>\n",
       "      <td>0.0</td>\n",
       "      <td>0.0</td>\n",
       "      <td>0.0</td>\n",
       "      <td>0.0</td>\n",
       "      <td>0.0</td>\n",
       "      <td>0.0</td>\n",
       "      <td>0.0</td>\n",
       "      <td>0.0</td>\n",
       "    </tr>\n",
       "    <tr>\n",
       "      <th>ordinarily</th>\n",
       "      <td>0.0</td>\n",
       "      <td>0.0</td>\n",
       "      <td>0.0</td>\n",
       "      <td>0.0</td>\n",
       "      <td>0.0</td>\n",
       "      <td>0.0</td>\n",
       "      <td>0.0</td>\n",
       "      <td>0.0</td>\n",
       "      <td>0.0</td>\n",
       "      <td>0.0</td>\n",
       "      <td>...</td>\n",
       "      <td>0.0</td>\n",
       "      <td>0.0</td>\n",
       "      <td>0.0</td>\n",
       "      <td>0.0</td>\n",
       "      <td>0.0</td>\n",
       "      <td>0.0</td>\n",
       "      <td>0.0</td>\n",
       "      <td>0.0</td>\n",
       "      <td>0.0</td>\n",
       "      <td>0.0</td>\n",
       "    </tr>\n",
       "    <tr>\n",
       "      <th>moderately</th>\n",
       "      <td>0.0</td>\n",
       "      <td>0.0</td>\n",
       "      <td>0.0</td>\n",
       "      <td>0.0</td>\n",
       "      <td>0.0</td>\n",
       "      <td>0.0</td>\n",
       "      <td>0.0</td>\n",
       "      <td>0.0</td>\n",
       "      <td>0.0</td>\n",
       "      <td>0.0</td>\n",
       "      <td>...</td>\n",
       "      <td>0.0</td>\n",
       "      <td>0.0</td>\n",
       "      <td>0.0</td>\n",
       "      <td>0.0</td>\n",
       "      <td>0.0</td>\n",
       "      <td>0.0</td>\n",
       "      <td>0.0</td>\n",
       "      <td>0.0</td>\n",
       "      <td>0.0</td>\n",
       "      <td>0.0</td>\n",
       "    </tr>\n",
       "  </tbody>\n",
       "</table>\n",
       "<p>2000 rows × 2000 columns</p>\n",
       "</div>"
      ],
      "text/plain": [
       "            kelly  detention  devises  devotion  symphonic  dilemmas  \\\n",
       "kelly         0.0        0.0      0.0       0.0        0.0       0.0   \n",
       "detention     0.0        0.0      0.0       0.0        0.0       0.0   \n",
       "devises       0.0        0.0      0.0       0.0        0.0       0.0   \n",
       "devotion      0.0        0.0      0.0       0.0        0.0       0.0   \n",
       "symphonic     0.0        0.0      0.0       0.0        0.0       0.0   \n",
       "...           ...        ...      ...       ...        ...       ...   \n",
       "heal          0.0        0.0      0.0       0.0        0.0       0.0   \n",
       "royal         0.0        0.0      0.0       0.0        0.0       0.0   \n",
       "rub           0.0        0.0      0.0       0.0        0.0       0.0   \n",
       "ordinarily    0.0        0.0      0.0       0.0        0.0       0.0   \n",
       "moderately    0.0        0.0      0.0       0.0        0.0       0.0   \n",
       "\n",
       "            susceptible  disappearing  ditching  sunday  ...  keepers  medias  \\\n",
       "kelly               0.0           0.0       0.0     0.0  ...      0.0     0.0   \n",
       "detention           0.0           0.0       0.0     0.0  ...      0.0     0.0   \n",
       "devises             0.0           0.0       0.0     0.0  ...      0.0     0.0   \n",
       "devotion            0.0           0.0       0.0     0.0  ...      0.0     0.0   \n",
       "symphonic           0.0           0.0       0.0     0.0  ...      0.0     0.0   \n",
       "...                 ...           ...       ...     ...  ...      ...     ...   \n",
       "heal                0.0           0.0       0.0     0.0  ...      0.0     0.0   \n",
       "royal               0.0           0.0       0.0     0.0  ...      0.0     0.0   \n",
       "rub                 0.0           0.0       0.0     0.0  ...      0.0     0.0   \n",
       "ordinarily          0.0           0.0       0.0     0.0  ...      0.0     0.0   \n",
       "moderately          0.0           0.0       0.0     0.0  ...      0.0     0.0   \n",
       "\n",
       "            shovels  footrest  zoned  heal  royal  rub  ordinarily  moderately  \n",
       "kelly           0.0       0.0    0.0   0.0    0.0  0.0         0.0         0.0  \n",
       "detention       0.0       0.0    0.0   0.0    0.0  0.0         0.0         0.0  \n",
       "devises         0.0       0.0    0.0   0.0    0.0  0.0         0.0         0.0  \n",
       "devotion        0.0       0.0    0.0   0.0    0.0  0.0         0.0         0.0  \n",
       "symphonic       0.0       0.0    0.0   0.0    0.0  0.0         0.0         0.0  \n",
       "...             ...       ...    ...   ...    ...  ...         ...         ...  \n",
       "heal            0.0       0.0    0.0   0.0    0.0  0.0         0.0         0.0  \n",
       "royal           0.0       0.0    0.0   0.0    0.0  0.0         0.0         0.0  \n",
       "rub             0.0       0.0    0.0   0.0    0.0  0.0         0.0         0.0  \n",
       "ordinarily      0.0       0.0    0.0   0.0    0.0  0.0         0.0         0.0  \n",
       "moderately      0.0       0.0    0.0   0.0    0.0  0.0         0.0         0.0  \n",
       "\n",
       "[2000 rows x 2000 columns]"
      ]
     },
     "execution_count": 26,
     "metadata": {},
     "output_type": "execute_result"
    }
   ],
   "source": [
    "co_matrix"
   ]
  },
  {
   "cell_type": "markdown",
   "metadata": {},
   "source": [
    "### 1.14 SVD on cooccurance matrix"
   ]
  },
  {
   "cell_type": "code",
   "execution_count": 27,
   "metadata": {},
   "outputs": [
    {
     "name": "stdout",
     "output_type": "stream",
     "text": [
      "n_components= 10 variance= 0.40607391483910527\n",
      "n_components= 20 variance= 0.5129279118824488\n",
      "n_components= 50 variance= 0.6722847588030308\n",
      "n_components= 60 variance= 0.7047263478101818\n",
      "n_components= 100 variance= 0.7781856441556061\n",
      "n_components= 200 variance= 0.8549650520220569\n",
      "n_components= 300 variance= 0.9014224986700434\n",
      "n_components= 400 variance= 0.9324144628011418\n",
      "n_components= 500 variance= 0.9531639495527733\n",
      "n_components= 1000 variance= 0.9988219060277594\n",
      "n_components= 1200 variance= 1.0000000000000084\n",
      "n_components= 1500 variance= 1.0000000000000115\n",
      "n_components= 1600 variance= 1.0000000000000095\n",
      "n_components= 1700 variance= 1.0000000000000093\n",
      "n_components= 1800 variance= 1.0000000000000142\n",
      "n_components= 1900 variance= 1.0000000000000147\n",
      "n_components= 1999 variance= 1.0000000000000093\n"
     ]
    }
   ],
   "source": [
    "from sklearn.decomposition import TruncatedSVD\n",
    "n_components=[10,20,50,60,100,200,300,400,500,1000,1200,1500,1600,1700,1800,1900,1999]\n",
    "explained_variance=[]\n",
    "for i in n_components:\n",
    " svd=TruncatedSVD(n_components=i,random_state=42)\n",
    " svd.fit(co_matrix)\n",
    " exp_var=svd.explained_variance_ratio_.sum()\n",
    " explained_variance.append(exp_var)\n",
    " \n",
    " print('n_components=',i,'variance=',exp_var)"
   ]
  },
  {
   "cell_type": "markdown",
   "metadata": {},
   "source": [
    "### 1.15 components vs variance"
   ]
  },
  {
   "cell_type": "code",
   "execution_count": 28,
   "metadata": {},
   "outputs": [
    {
     "data": {
      "image/png": "[encoded data removed]",
      "text/plain": [
       "<Figure size 432x288 with 1 Axes>"
      ]
     },
     "metadata": {
      "needs_background": "light"
     },
     "output_type": "display_data"
    }
   ],
   "source": [
    "plt.plot(n_components, explained_variance)\n",
    "plt.xlabel('n_components')\n",
    "plt.ylabel(\"Explained variance\")\n",
    "plt.title(\"n_components v/s Explained variance\")\n",
    "plt.show()"
   ]
  },
  {
   "cell_type": "code",
   "execution_count": 29,
   "metadata": {},
   "outputs": [],
   "source": [
    "from sklearn.decomposition import TruncatedSVD\n",
    "tsvd=TruncatedSVD(n_components=1500,random_state=42)\n",
    "final_co_matrix=tsvd.fit_transform(co_matrix)"
   ]
  },
  {
   "cell_type": "code",
   "execution_count": 30,
   "metadata": {},
   "outputs": [
    {
     "name": "stdout",
     "output_type": "stream",
     "text": [
      "(2000, 1500)\n"
     ]
    }
   ],
   "source": [
    "print(final_co_matrix.shape)"
   ]
  },
  {
   "cell_type": "code",
   "execution_count": 31,
   "metadata": {},
   "outputs": [
    {
     "data": {
      "text/plain": [
       "Index(['kelly', 'detention', 'devises', 'devotion', 'symphonic', 'dilemmas',\n",
       "       'susceptible', 'disappearing', 'ditching', 'sunday',\n",
       "       ...\n",
       "       'keepers', 'medias', 'shovels', 'footrest', 'zoned', 'heal', 'royal',\n",
       "       'rub', 'ordinarily', 'moderately'],\n",
       "      dtype='object', length=2000)"
      ]
     },
     "execution_count": 31,
     "metadata": {},
     "output_type": "execute_result"
    }
   ],
   "source": [
    "co_matrix.columns\n"
   ]
  },
  {
   "cell_type": "code",
   "execution_count": 32,
   "metadata": {},
   "outputs": [],
   "source": [
    "word_names = list(co_matrix.columns)"
   ]
  },
  {
   "cell_type": "markdown",
   "metadata": {},
   "source": [
    "### 1.16 Making dependant(label) and independant variables"
   ]
  },
  {
   "cell_type": "code",
   "execution_count": 33,
   "metadata": {},
   "outputs": [
    {
     "data": {
      "text/html": [
       "<div>\n",
       "<style scoped>\n",
       "    .dataframe tbody tr th:only-of-type {\n",
       "        vertical-align: middle;\n",
       "    }\n",
       "\n",
       "    .dataframe tbody tr th {\n",
       "        vertical-align: top;\n",
       "    }\n",
       "\n",
       "    .dataframe thead th {\n",
       "        text-align: right;\n",
       "    }\n",
       "</style>\n",
       "<table border=\"1\" class=\"dataframe\">\n",
       "  <thead>\n",
       "    <tr style=\"text-align: right;\">\n",
       "      <th></th>\n",
       "      <th>Unnamed: 0</th>\n",
       "      <th>id</th>\n",
       "      <th>teacher_id</th>\n",
       "      <th>teacher_prefix</th>\n",
       "      <th>school_state</th>\n",
       "      <th>project_submitted_datetime</th>\n",
       "      <th>project_grade_category</th>\n",
       "      <th>project_resource_summary</th>\n",
       "      <th>teacher_number_of_previously_posted_projects</th>\n",
       "      <th>project_is_approved</th>\n",
       "      <th>...</th>\n",
       "      <th>cleaned_project_title</th>\n",
       "      <th>clean_categories</th>\n",
       "      <th>clean_subcategories</th>\n",
       "      <th>totalwords_title</th>\n",
       "      <th>totalwords_essay</th>\n",
       "      <th>neg</th>\n",
       "      <th>neu</th>\n",
       "      <th>pos</th>\n",
       "      <th>compound</th>\n",
       "      <th>essay_title</th>\n",
       "    </tr>\n",
       "  </thead>\n",
       "  <tbody>\n",
       "    <tr>\n",
       "      <th>0</th>\n",
       "      <td>160221</td>\n",
       "      <td>p253737</td>\n",
       "      <td>c90749f5d961ff158d4b4d1e7dc665fc</td>\n",
       "      <td>Mrs</td>\n",
       "      <td>IN</td>\n",
       "      <td>2016-12-05 13:43:57</td>\n",
       "      <td>Grades_PreK_2</td>\n",
       "      <td>My students need opportunities to practice beg...</td>\n",
       "      <td>0</td>\n",
       "      <td>0</td>\n",
       "      <td>...</td>\n",
       "      <td>educational support english learners home</td>\n",
       "      <td>Literacy_Language</td>\n",
       "      <td>ESL Literacy</td>\n",
       "      <td>5</td>\n",
       "      <td>161</td>\n",
       "      <td>0.012</td>\n",
       "      <td>0.845</td>\n",
       "      <td>0.143</td>\n",
       "      <td>0.9694</td>\n",
       "      <td>my students english learners working english s...</td>\n",
       "    </tr>\n",
       "    <tr>\n",
       "      <th>1</th>\n",
       "      <td>140945</td>\n",
       "      <td>p258326</td>\n",
       "      <td>897464ce9ddc600bced1151f324dd63a</td>\n",
       "      <td>Mr</td>\n",
       "      <td>FL</td>\n",
       "      <td>2016-10-25 09:22:10</td>\n",
       "      <td>Grades_6_8</td>\n",
       "      <td>My students need a projector to help with view...</td>\n",
       "      <td>7</td>\n",
       "      <td>1</td>\n",
       "      <td>...</td>\n",
       "      <td>wanted projector hungry learners</td>\n",
       "      <td>History_Civics Health_Sports</td>\n",
       "      <td>Civics_Government TeamSports</td>\n",
       "      <td>4</td>\n",
       "      <td>109</td>\n",
       "      <td>0.048</td>\n",
       "      <td>0.668</td>\n",
       "      <td>0.284</td>\n",
       "      <td>0.9860</td>\n",
       "      <td>our students arrive school eager learn they po...</td>\n",
       "    </tr>\n",
       "    <tr>\n",
       "      <th>2</th>\n",
       "      <td>21895</td>\n",
       "      <td>p182444</td>\n",
       "      <td>3465aaf82da834c0582ebd0ef8040ca0</td>\n",
       "      <td>Ms</td>\n",
       "      <td>AZ</td>\n",
       "      <td>2016-08-31 12:03:56</td>\n",
       "      <td>Grades_6_8</td>\n",
       "      <td>My students need shine guards, athletic socks,...</td>\n",
       "      <td>1</td>\n",
       "      <td>0</td>\n",
       "      <td>...</td>\n",
       "      <td>soccer equipment awesome middle school students</td>\n",
       "      <td>Health_Sports</td>\n",
       "      <td>Health_Wellness TeamSports</td>\n",
       "      <td>6</td>\n",
       "      <td>202</td>\n",
       "      <td>0.076</td>\n",
       "      <td>0.656</td>\n",
       "      <td>0.268</td>\n",
       "      <td>0.9939</td>\n",
       "      <td>true champions not always ones win guts by mia...</td>\n",
       "    </tr>\n",
       "  </tbody>\n",
       "</table>\n",
       "<p>3 rows × 24 columns</p>\n",
       "</div>"
      ],
      "text/plain": [
       "   Unnamed: 0       id                        teacher_id teacher_prefix  \\\n",
       "0      160221  p253737  c90749f5d961ff158d4b4d1e7dc665fc            Mrs   \n",
       "1      140945  p258326  897464ce9ddc600bced1151f324dd63a             Mr   \n",
       "2       21895  p182444  3465aaf82da834c0582ebd0ef8040ca0             Ms   \n",
       "\n",
       "  school_state project_submitted_datetime project_grade_category  \\\n",
       "0           IN        2016-12-05 13:43:57          Grades_PreK_2   \n",
       "1           FL        2016-10-25 09:22:10             Grades_6_8   \n",
       "2           AZ        2016-08-31 12:03:56             Grades_6_8   \n",
       "\n",
       "                            project_resource_summary  \\\n",
       "0  My students need opportunities to practice beg...   \n",
       "1  My students need a projector to help with view...   \n",
       "2  My students need shine guards, athletic socks,...   \n",
       "\n",
       "   teacher_number_of_previously_posted_projects  project_is_approved  ...  \\\n",
       "0                                             0                    0  ...   \n",
       "1                                             7                    1  ...   \n",
       "2                                             1                    0  ...   \n",
       "\n",
       "                             cleaned_project_title  \\\n",
       "0        educational support english learners home   \n",
       "1                 wanted projector hungry learners   \n",
       "2  soccer equipment awesome middle school students   \n",
       "\n",
       "               clean_categories           clean_subcategories  \\\n",
       "0             Literacy_Language                  ESL Literacy   \n",
       "1  History_Civics Health_Sports  Civics_Government TeamSports   \n",
       "2                 Health_Sports    Health_Wellness TeamSports   \n",
       "\n",
       "  totalwords_title totalwords_essay    neg    neu    pos  compound  \\\n",
       "0                5              161  0.012  0.845  0.143    0.9694   \n",
       "1                4              109  0.048  0.668  0.284    0.9860   \n",
       "2                6              202  0.076  0.656  0.268    0.9939   \n",
       "\n",
       "                                         essay_title  \n",
       "0  my students english learners working english s...  \n",
       "1  our students arrive school eager learn they po...  \n",
       "2  true champions not always ones win guts by mia...  \n",
       "\n",
       "[3 rows x 24 columns]"
      ]
     },
     "execution_count": 33,
     "metadata": {},
     "output_type": "execute_result"
    }
   ],
   "source": [
    "project_data=project_data[:2000]\n",
    "\n",
    "y = project_data['project_is_approved'].values\n",
    "\n",
    "\n",
    "\n",
    "x=project_data\n",
    "x.head(3)"
   ]
  },
  {
   "cell_type": "markdown",
   "metadata": {},
   "source": [
    "### 1.17 Traing and Test split"
   ]
  },
  {
   "cell_type": "code",
   "execution_count": 34,
   "metadata": {},
   "outputs": [],
   "source": [
    "from sklearn.model_selection import train_test_split\n",
    "X_train, X_test, Y_train, Y_test = train_test_split(x, y, test_size=0.33, stratify=y,random_state=42)\n",
    "\n",
    "#X_train, X_cv, Y_train, Y_cv = train_test_split(X_train,Y_train, test_size=0.33, stratify=Y_train,random_state=42)"
   ]
  },
  {
   "cell_type": "markdown",
   "metadata": {},
   "source": [
    "### 2.Text Vectorization using co_matrix and encoding catagories,normalization numerical features¶"
   ]
  },
  {
   "cell_type": "markdown",
   "metadata": {},
   "source": [
    "### 2.1 essay and title with matix words"
   ]
  },
  {
   "cell_type": "code",
   "execution_count": 35,
   "metadata": {},
   "outputs": [
    {
     "name": "stderr",
     "output_type": "stream",
     "text": [
      "100%|██████████| 1340/1340 [00:05<00:00, 244.72it/s]"
     ]
    },
    {
     "name": "stdout",
     "output_type": "stream",
     "text": [
      "1340\n",
      "1500\n"
     ]
    },
    {
     "name": "stderr",
     "output_type": "stream",
     "text": [
      "\n"
     ]
    }
   ],
   "source": [
    "Text_avg_w2v_train_essay_co_matrix= []; # the avg-w2v for each sentence/review is stored in this list\n",
    "for sentence in tqdm(X_train['cleaned_essay'].values): # for each review/sentence\n",
    "    vector = np.zeros(1500) # as word vectors are of zero length\n",
    "    cnt_words =0; # num of words with a valid vector in the sentence/review\n",
    "    for word in sentence.split(): # for each word in a review/sentence\n",
    "        if word in word_names:\n",
    "            vector += final_co_matrix[word_names.index(word)]\n",
    "    Text_avg_w2v_train_essay_co_matrix.append(vector)\n",
    "\n",
    "print(len(Text_avg_w2v_train_essay_co_matrix))\n",
    "print(len(Text_avg_w2v_train_essay_co_matrix[0]))"
   ]
  },
  {
   "cell_type": "code",
   "execution_count": 36,
   "metadata": {},
   "outputs": [
    {
     "name": "stderr",
     "output_type": "stream",
     "text": [
      "100%|██████████| 660/660 [00:02<00:00, 243.85it/s]"
     ]
    },
    {
     "name": "stdout",
     "output_type": "stream",
     "text": [
      "660\n",
      "1500\n"
     ]
    },
    {
     "name": "stderr",
     "output_type": "stream",
     "text": [
      "\n"
     ]
    }
   ],
   "source": [
    "Text_avg_w2v_test_essay_co_matrix= []; # the avg-w2v for each sentence/review is stored in this list\n",
    "for sentence in tqdm(X_test['cleaned_essay'].values): # for each review/sentence\n",
    "    vector = np.zeros(1500) # as word vectors are of zero length\n",
    "    cnt_words =0; # num of words with a valid vector in the sentence/review\n",
    "    for word in sentence.split(): # for each word in a review/sentence\n",
    "        if word in word_names:\n",
    "            vector += final_co_matrix[word_names.index(word)]\n",
    "    Text_avg_w2v_test_essay_co_matrix.append(vector)\n",
    "\n",
    "print(len(Text_avg_w2v_test_essay_co_matrix))\n",
    "print(len(Text_avg_w2v_test_essay_co_matrix[0]))"
   ]
  },
  {
   "cell_type": "code",
   "execution_count": 37,
   "metadata": {},
   "outputs": [
    {
     "name": "stderr",
     "output_type": "stream",
     "text": [
      "100%|██████████| 1340/1340 [00:00<00:00, 8070.28it/s]\n"
     ]
    },
    {
     "name": "stdout",
     "output_type": "stream",
     "text": [
      "1340\n",
      "1500\n"
     ]
    }
   ],
   "source": [
    "Text_avg_w2v_train_title_co_matrix= []; # the avg-w2v for each sentence/review is stored in this list\n",
    "for sentence in tqdm(X_train['cleaned_project_title'].values): # for each review/sentence\n",
    "    vector = np.zeros(1500) # as word vectors are of zero length\n",
    "    cnt_words =0; # num of words with a valid vector in the sentence/review\n",
    "    for word in sentence.split(): # for each word in a review/sentence\n",
    "        if word in word_names:\n",
    "            vector += final_co_matrix[word_names.index(word)]\n",
    "            \n",
    "    Text_avg_w2v_train_title_co_matrix.append(vector)\n",
    "\n",
    "print(len(Text_avg_w2v_train_title_co_matrix))\n",
    "print(len(Text_avg_w2v_train_title_co_matrix[0]))"
   ]
  },
  {
   "cell_type": "code",
   "execution_count": 38,
   "metadata": {},
   "outputs": [
    {
     "name": "stderr",
     "output_type": "stream",
     "text": [
      "100%|██████████| 660/660 [00:00<00:00, 8047.09it/s]"
     ]
    },
    {
     "name": "stdout",
     "output_type": "stream",
     "text": [
      "660\n",
      "1500\n"
     ]
    },
    {
     "name": "stderr",
     "output_type": "stream",
     "text": [
      "\n"
     ]
    }
   ],
   "source": [
    "Text_avg_w2v_test_title_co_matrix= []; # the avg-w2v for each sentence/review is stored in this list\n",
    "for sentence in tqdm(X_test['cleaned_project_title'].values): # for each review/sentence\n",
    "    vector = np.zeros(1500) # as word vectors are of zero length\n",
    "    cnt_words =0; # num of words with a valid vector in the sentence/review\n",
    "    for word in sentence.split(): # for each word in a review/sentence\n",
    "        if word in word_names:\n",
    "            vector += final_co_matrix[word_names.index(word)]\n",
    "            \n",
    "    Text_avg_w2v_test_title_co_matrix.append(vector)\n",
    "\n",
    "print(len(Text_avg_w2v_test_title_co_matrix))\n",
    "print(len(Text_avg_w2v_test_title_co_matrix[0]))"
   ]
  },
  {
   "cell_type": "markdown",
   "metadata": {},
   "source": [
    "### 2.2 Categories with response coding"
   ]
  },
  {
   "cell_type": "code",
   "execution_count": 39,
   "metadata": {},
   "outputs": [],
   "source": [
    "def Responsetable(table, col) :\n",
    "    cat = table[col].unique()\n",
    "    alpha=1\n",
    "    freq_Pos = []\n",
    "    for i in cat : \n",
    "        freq_Pos.append(len(table.loc[(table[col] == i) & (table['project_is_approved'] == 1)]))\n",
    "        \n",
    "        \n",
    "    freq_Neg = []\n",
    "    for i in cat : \n",
    "        freq_Neg.append(len(table.loc[(table[col] == i) & (table['project_is_approved'] == 0)]))\n",
    "        \n",
    "    \n",
    "    encoded_Pos = []\n",
    "    for i in range(len(cat)) :\n",
    "        encoded_Pos.append(((freq_Pos[i]+alpha)/(freq_Pos[i] + freq_Neg[i]+alpha)))\n",
    "    \n",
    "    encoded_Neg = []\n",
    "    encoded_Neg[:] = [1 - x for x in encoded_Pos]\n",
    "        \n",
    "    encoded_Pos_val = dict(zip(cat, encoded_Pos)) \n",
    "    encoded_Neg_val = dict(zip(cat, encoded_Neg)) \n",
    "    \n",
    "    return encoded_Pos_val, encoded_Neg_val"
   ]
  },
  {
   "cell_type": "code",
   "execution_count": 40,
   "metadata": {},
   "outputs": [],
   "source": [
    "def Responsecode(table) : \n",
    "    pos_cleancat, neg_cleancat = Responsetable(table,'clean_categories')\n",
    "    pos_cleansubcat, neg_cleansubcat = Responsetable(table,'clean_subcategories')\n",
    "    pos_schoolstate, neg_schoolstate = Responsetable(table, 'school_state')\n",
    "    pos_teacherprefix, neg_teacherprefix = Responsetable(table, 'teacher_prefix')\n",
    "    pos_projgradecat, neg_projgradecat = Responsetable(table, 'project_grade_category')\n",
    "    \n",
    "    df = pd.DataFrame()\n",
    "    df['clean_cat_pos'] = table['clean_categories'].map(pos_cleancat)\n",
    "    df['clean_cat_neg'] = table['clean_categories'].map(neg_cleancat)\n",
    "    df['clean_subcat_pos'] = table['clean_subcategories'].map(pos_cleansubcat)\n",
    "    df['clean_subcat_neg'] = table['clean_subcategories'].map(neg_cleansubcat)\n",
    "    df['school_state_pos'] = table['school_state'].map(pos_schoolstate)\n",
    "    df['school_state_neg'] = table['school_state'].map(neg_schoolstate)\n",
    "    df['teacher_prefix_pos'] = table['teacher_prefix'].map(pos_teacherprefix)\n",
    "    df['teacher_prefix_neg'] = table['teacher_prefix'].map(neg_teacherprefix)\n",
    "    df['proj_grade_cat_pos'] = table['project_grade_category'].map(pos_projgradecat)\n",
    "    df['proj_grade_cat_neg'] = table['project_grade_category'].map(neg_projgradecat)\n",
    "\n",
    "    return df"
   ]
  },
  {
   "cell_type": "code",
   "execution_count": 41,
   "metadata": {},
   "outputs": [],
   "source": [
    "newTrain = Responsecode(X_train)\n",
    "newTest = Responsecode(X_test)\n",
    "#newCv=Responsecode(X_cv)"
   ]
  },
  {
   "cell_type": "code",
   "execution_count": 42,
   "metadata": {},
   "outputs": [],
   "source": [
    "def mergeEncoding(table, p, n) :\n",
    "    lstPos = table[p].values.tolist()\n",
    "    lstNeg = table[n].values.tolist()\n",
    "    frame = pd.DataFrame(list(zip(lstNeg, lstPos)))\n",
    "    \n",
    "    return frame"
   ]
  },
  {
   "cell_type": "markdown",
   "metadata": {},
   "source": [
    "### 2.3  response code of clean_categories"
   ]
  },
  {
   "cell_type": "code",
   "execution_count": 43,
   "metadata": {},
   "outputs": [
    {
     "name": "stdout",
     "output_type": "stream",
     "text": [
      "(1340, 2)\n"
     ]
    }
   ],
   "source": [
    "X_train_clean_cat_resposecode = mergeEncoding(newTrain, 'clean_cat_pos', 'clean_cat_neg')\n",
    "X_test_clean_cat_resposecode = mergeEncoding(newTest, 'clean_cat_pos', 'clean_cat_neg')\n",
    "#X_cv_clean_cat_resposecode=mergeEncoding(newCv, 'clean_cat_pos', 'clean_cat_neg')\n",
    "print(X_train_clean_cat_resposecode.shape)"
   ]
  },
  {
   "cell_type": "markdown",
   "metadata": {},
   "source": [
    "### 2.4 response code of clean_sub_categories"
   ]
  },
  {
   "cell_type": "code",
   "execution_count": 44,
   "metadata": {},
   "outputs": [
    {
     "name": "stdout",
     "output_type": "stream",
     "text": [
      "(1340, 2)\n",
      "(660, 2)\n"
     ]
    }
   ],
   "source": [
    "X_train_clean_subcat_resposecode = mergeEncoding(newTrain, 'clean_subcat_pos', 'clean_subcat_neg')\n",
    "X_test_clean_subcat_resposecode = mergeEncoding(newTest, 'clean_subcat_pos', 'clean_subcat_neg')\n",
    "#X_cv_clean_subcat_resposecode = mergeEncoding(newCv, 'clean_subcat_pos', 'clean_subcat_neg')\n",
    "print(X_train_clean_subcat_resposecode.shape)\n",
    "print(X_test_clean_subcat_resposecode.shape)\n",
    "#print(X_cv_clean_subcat_resposecode.shape)"
   ]
  },
  {
   "cell_type": "markdown",
   "metadata": {},
   "source": [
    "### 2.5 response code of project grade"
   ]
  },
  {
   "cell_type": "code",
   "execution_count": 45,
   "metadata": {},
   "outputs": [
    {
     "name": "stdout",
     "output_type": "stream",
     "text": [
      "(1340, 2)\n",
      "(660, 2)\n"
     ]
    }
   ],
   "source": [
    "X_train_grade_resposecode = mergeEncoding(newTrain, 'proj_grade_cat_pos', 'proj_grade_cat_neg')\n",
    "X_test_grade_resposecode = mergeEncoding(newTest, 'proj_grade_cat_pos', 'proj_grade_cat_neg')\n",
    "#X_cv_grade_resposecode = mergeEncoding(newCv, 'proj_grade_cat_pos', 'proj_grade_cat_neg')\n",
    "print(X_train_grade_resposecode.shape)\n",
    "print(X_test_grade_resposecode.shape)\n",
    "#print(X_cv_grade_resposecode.shape)"
   ]
  },
  {
   "cell_type": "markdown",
   "metadata": {},
   "source": [
    "### 2.6 response code of school state"
   ]
  },
  {
   "cell_type": "code",
   "execution_count": 46,
   "metadata": {},
   "outputs": [
    {
     "name": "stdout",
     "output_type": "stream",
     "text": [
      "(1340, 2)\n",
      "(660, 2)\n"
     ]
    }
   ],
   "source": [
    "X_train_state_resposecode = mergeEncoding(newTrain, 'school_state_pos', 'school_state_neg')\n",
    "X_test_state_resposecode = mergeEncoding(newTest, 'school_state_pos', 'school_state_neg')\n",
    "#X_cv_state_resposecode = mergeEncoding(newCv, 'school_state_pos', 'school_state_neg')\n",
    "print(X_train_state_resposecode.shape)\n",
    "print(X_test_state_resposecode.shape)\n",
    "#print(X_cv_state_resposecode.shape)"
   ]
  },
  {
   "cell_type": "markdown",
   "metadata": {},
   "source": [
    "### 2.7 response code of teacher prefix"
   ]
  },
  {
   "cell_type": "code",
   "execution_count": 47,
   "metadata": {},
   "outputs": [
    {
     "name": "stdout",
     "output_type": "stream",
     "text": [
      "(1340, 2)\n",
      "(660, 2)\n"
     ]
    }
   ],
   "source": [
    "X_train_teacher_resposecode = mergeEncoding(newTrain, 'teacher_prefix_pos', 'teacher_prefix_neg')\n",
    "X_test_teacher_resposecode = mergeEncoding(newTest, 'teacher_prefix_pos', 'teacher_prefix_neg')\n",
    "#X_cv_teacher_resposecode = mergeEncoding(newCv, 'teacher_prefix_pos', 'teacher_prefix_neg')\n",
    "print(X_train_teacher_resposecode.shape)\n",
    "print(X_test_teacher_resposecode.shape)\n",
    "#print(X_cv_teacher_resposecode.shape)"
   ]
  },
  {
   "cell_type": "markdown",
   "metadata": {},
   "source": [
    "### 2.8 Normalizing the numerical features: Price"
   ]
  },
  {
   "cell_type": "code",
   "execution_count": 48,
   "metadata": {},
   "outputs": [
    {
     "name": "stdout",
     "output_type": "stream",
     "text": [
      "After vectorizations\n",
      "(1340, 1) (1340,)\n",
      "(660, 1) (660,)\n",
      "====================================================================================================\n"
     ]
    }
   ],
   "source": [
    "from sklearn.preprocessing import Normalizer\n",
    "normalizer = Normalizer()\n",
    "\n",
    "normalizer.fit(X_train['price'].values.reshape(-1,1))\n",
    "\n",
    "X_train_price_norm = normalizer.transform(X_train['price'].values.reshape(-1,1))\n",
    "\n",
    "X_test_price_norm = normalizer.transform(X_test['price'].values.reshape(-1,1))\n",
    "\n",
    "#X_cv_price_norm = normalizer.transform(X_cv['price'].values.reshape(-1,1))\n",
    "\n",
    "print(\"After vectorizations\")\n",
    "print(X_train_price_norm.shape, Y_train.shape)\n",
    "#print(X_cv_price_norm.shape, Y_cv.shape)\n",
    "print(X_test_price_norm.shape, Y_test.shape)\n",
    "print(\"=\"*100)"
   ]
  },
  {
   "cell_type": "markdown",
   "metadata": {},
   "source": [
    "### 2.9 Normalizing the numerical features:teacher_number_of_previously_posted_projects"
   ]
  },
  {
   "cell_type": "code",
   "execution_count": 49,
   "metadata": {},
   "outputs": [
    {
     "name": "stdout",
     "output_type": "stream",
     "text": [
      "After vectorizations\n",
      "(1340, 1) (1340,)\n",
      "(660, 1) (660,)\n",
      "====================================================================================================\n"
     ]
    }
   ],
   "source": [
    "from sklearn.preprocessing import Normalizer\n",
    "normalizer = Normalizer()\n",
    "\n",
    "normalizer.fit(X_train['teacher_number_of_previously_posted_projects'].values.reshape(-1,1))\n",
    "\n",
    "X_train_TPPP_norm = normalizer.transform(X_train['teacher_number_of_previously_posted_projects'].values.reshape(-1,1))\n",
    "#X_cv_TPPP_norm = normalizer.transform(X_cv['teacher_number_of_previously_posted_projects'].values.reshape(-1,1))\n",
    "X_test_TPPP_norm = normalizer.transform(X_test['teacher_number_of_previously_posted_projects'].values.reshape(-1,1))\n",
    "\n",
    "print(\"After vectorizations\")\n",
    "print(X_train_TPPP_norm.shape, Y_train.shape)\n",
    "#print(X_cv_TPPP_norm.shape, Y_cv.shape)\n",
    "print(X_test_TPPP_norm.shape, Y_test.shape)\n",
    "print(\"=\"*100)"
   ]
  },
  {
   "cell_type": "markdown",
   "metadata": {},
   "source": [
    "### 2.10 Normalizing the numerical features: quantity"
   ]
  },
  {
   "cell_type": "code",
   "execution_count": 50,
   "metadata": {},
   "outputs": [
    {
     "name": "stdout",
     "output_type": "stream",
     "text": [
      "After vectorizations\n",
      "(1340, 1) (1340,)\n",
      "(660, 1) (660,)\n",
      "====================================================================================================\n"
     ]
    }
   ],
   "source": [
    "from sklearn.preprocessing import Normalizer\n",
    "normalizer = Normalizer()\n",
    "\n",
    "normalizer.fit(X_train['quantity'].values.reshape(-1,1))\n",
    "\n",
    "X_train_quantity_norm = normalizer.transform(X_train['quantity'].values.reshape(-1,1))\n",
    "#X_cv_quantity_norm = normalizer.transform(X_cv['quantity'].values.reshape(-1,1))\n",
    "X_test_quantity_norm = normalizer.transform(X_test['quantity'].values.reshape(-1,1))\n",
    "\n",
    "print(\"After vectorizations\")\n",
    "print(X_train_quantity_norm.shape, Y_train.shape)\n",
    "#print(X_cv_quantity_norm.shape, Y_cv.shape)\n",
    "print(X_test_quantity_norm.shape, Y_test.shape)\n",
    "print(\"=\"*100)"
   ]
  },
  {
   "cell_type": "markdown",
   "metadata": {},
   "source": [
    "### 2.11 Normalizing the numerical features: totalwords_title"
   ]
  },
  {
   "cell_type": "code",
   "execution_count": 51,
   "metadata": {},
   "outputs": [
    {
     "name": "stdout",
     "output_type": "stream",
     "text": [
      "After vectorizations\n",
      "(1340, 1) (1340,)\n",
      "(660, 1) (660,)\n",
      "====================================================================================================\n"
     ]
    }
   ],
   "source": [
    "from sklearn.preprocessing import Normalizer\n",
    "normalizer = Normalizer()\n",
    "\n",
    "normalizer.fit(X_train['totalwords_title'].values.reshape(-1,1))\n",
    "\n",
    "X_train_totalwords_title_norm = normalizer.transform(X_train['totalwords_title'].values.reshape(-1,1))\n",
    "\n",
    "X_test_totalwords_title_norm = normalizer.transform(X_test['totalwords_title'].values.reshape(-1,1))\n",
    "#X_cv_totalwords_title_norm = normalizer.transform(X_cv['totalwords_title'].values.reshape(-1,1))\n",
    "print(\"After vectorizations\")\n",
    "print(X_train_totalwords_title_norm.shape, Y_train.shape)\n",
    "#print(X_cv_totalwords_title_norm.shape, Y_cv.shape)\n",
    "print(X_test_totalwords_title_norm.shape, Y_test.shape)\n",
    "print(\"=\"*100)"
   ]
  },
  {
   "cell_type": "markdown",
   "metadata": {},
   "source": [
    "### 2.12 Normalizing the numerical features: totalwords_essay"
   ]
  },
  {
   "cell_type": "code",
   "execution_count": 52,
   "metadata": {},
   "outputs": [
    {
     "name": "stdout",
     "output_type": "stream",
     "text": [
      "After vectorizations\n",
      "(1340, 1) (1340,)\n",
      "(660, 1) (660,)\n",
      "====================================================================================================\n"
     ]
    }
   ],
   "source": [
    "from sklearn.preprocessing import Normalizer\n",
    "normalizer = Normalizer()\n",
    "\n",
    "normalizer.fit(X_train['totalwords_essay'].values.reshape(-1,1))\n",
    "\n",
    "X_train_totalwords_essay_norm = normalizer.transform(X_train['totalwords_essay'].values.reshape(-1,1))\n",
    "#X_cv_totalwords_essay_norm = normalizer.transform(X_cv['totalwords_essay'].values.reshape(-1,1))\n",
    "X_test_totalwords_essay_norm = normalizer.transform(X_test['totalwords_essay'].values.reshape(-1,1))\n",
    "\n",
    "print(\"After vectorizations\")\n",
    "print(X_train_totalwords_essay_norm.shape, Y_train.shape)\n",
    "#print(X_cv_totalwords_essay_norm.shape, Y_cv.shape)\n",
    "print(X_test_totalwords_essay_norm.shape, Y_test.shape)\n",
    "print(\"=\"*100)"
   ]
  },
  {
   "cell_type": "markdown",
   "metadata": {},
   "source": [
    "### 2.13 Finally merge all data"
   ]
  },
  {
   "cell_type": "code",
   "execution_count": 53,
   "metadata": {},
   "outputs": [
    {
     "name": "stdout",
     "output_type": "stream",
     "text": [
      "Final Data matrix\n",
      "(1340, 3015) (1340,)\n",
      "(660, 3015) (660,)\n",
      "====================================================================================================\n"
     ]
    }
   ],
   "source": [
    "X_tr_svd = np.hstack((Text_avg_w2v_train_essay_co_matrix,Text_avg_w2v_train_title_co_matrix,X_train_clean_cat_resposecode,X_train_clean_subcat_resposecode,X_train_grade_resposecode,X_train_state_resposecode,X_train_teacher_resposecode,X_train_price_norm,X_train_TPPP_norm,X_train_quantity_norm,X_train_totalwords_title_norm,X_train_totalwords_essay_norm))\n",
    "\n",
    "X_te_svd = np.hstack((Text_avg_w2v_test_essay_co_matrix,Text_avg_w2v_test_title_co_matrix,X_test_clean_cat_resposecode,X_test_clean_subcat_resposecode,X_test_grade_resposecode,X_test_state_resposecode,X_test_teacher_resposecode,X_test_price_norm,X_test_TPPP_norm,X_test_quantity_norm,X_test_totalwords_title_norm,X_test_totalwords_essay_norm))\n",
    "\n",
    "print(\"Final Data matrix\")\n",
    "print(X_tr_svd.shape, Y_train.shape)\n",
    "\n",
    "print(X_te_svd.shape, Y_test.shape)\n",
    "print(\"=\"*100)"
   ]
  },
  {
   "cell_type": "markdown",
   "metadata": {},
   "source": [
    "## 3.XGB classifier "
   ]
  },
  {
   "cell_type": "markdown",
   "metadata": {},
   "source": [
    "### 3.1 model on data"
   ]
  },
  {
   "cell_type": "code",
   "execution_count": 63,
   "metadata": {},
   "outputs": [
    {
     "name": "stdout",
     "output_type": "stream",
     "text": [
      "[10:33:58] WARNING: C:/Users/Administrator/workspace/xgboost-win64_release_1.4.0/src/learner.cc:573: \n",
      "Parameters: { \"class_weight\" } might not be used.\n",
      "\n",
      "  This may not be accurate due to some parameters are only used in language bindings but\n",
      "  passed down to XGBoost core.  Or some parameters are not used but slip through this\n",
      "  verification. Please open an issue if you find above cases.\n",
      "\n",
      "\n",
      "[10:33:58] WARNING: C:/Users/Administrator/workspace/xgboost-win64_release_1.4.0/src/learner.cc:1095: Starting in XGBoost 1.3.0, the default evaluation metric used with the objective 'binary:logistic' was changed from 'error' to 'logloss'. Explicitly set eval_metric if you'd like to restore the old behavior.\n"
     ]
    },
    {
     "data": {
      "text/plain": [
       "GridSearchCV(cv=3,\n",
       "             estimator=XGBClassifier(base_score=None, booster=None,\n",
       "                                     class_weight='balanced',\n",
       "                                     colsample_bylevel=None,\n",
       "                                     colsample_bynode=None,\n",
       "                                     colsample_bytree=None, gamma=None,\n",
       "                                     gpu_id=None, importance_type='gain',\n",
       "                                     interaction_constraints=None,\n",
       "                                     learning_rate=None, max_delta_step=None,\n",
       "                                     max_depth=None, min_child_weight=None,\n",
       "                                     missing=nan, monotone_constraints=None,\n",
       "                                     n_estimators=100, n_jobs=-1,\n",
       "                                     num_parallel_tree=None, random_state=None,\n",
       "                                     reg_alpha=None, reg_lambda=None,\n",
       "                                     scale_pos_weight=None, subsample=None,\n",
       "                                     tree_method=None, validate_parameters=None,\n",
       "                                     verbosity=None),\n",
       "             n_jobs=-1,\n",
       "             param_grid={'max_depth': [2, 4, 5, 6, 7, 8],\n",
       "                         'n_estimators': [10, 50, 100, 150, 200, 300, 500]},\n",
       "             return_train_score=True, scoring='roc_auc')"
      ]
     },
     "execution_count": 63,
     "metadata": {},
     "output_type": "execute_result"
    }
   ],
   "source": [
    "import matplotlib.pyplot as plt\n",
    "from xgboost import XGBClassifier\n",
    "from sklearn.metrics import roc_auc_score\n",
    "from sklearn.model_selection import learning_curve, GridSearchCV\n",
    "\n",
    "xgb = XGBClassifier(n_jobs=-1,class_weight='balanced')\n",
    "parameters = {'n_estimators':[10, 50, 100, 150, 200, 300,500], 'max_depth': [2,4,5,6,7,8]}\n",
    "clf=GridSearchCV(xgb, parameters, cv=3, scoring='roc_auc', n_jobs=-1, return_train_score=True)\n",
    "clf.fit(X_tr_svd, Y_train)"
   ]
  },
  {
   "cell_type": "code",
   "execution_count": 65,
   "metadata": {
    "scrolled": false
   },
   "outputs": [
    {
     "data": {
      "text/plain": [
       "{'mean_fit_time': array([ 0.84325306,  3.02359247,  5.665277  ,  8.22885354, 10.42034737,\n",
       "        14.80200267, 23.11987631,  0.95354851,  3.841199  ,  7.91511599,\n",
       "        11.80232588, 14.9517018 , 21.4161582 , 35.75172305,  1.06757315,\n",
       "         4.40999468,  8.93234603, 13.67374754, 17.55428799, 25.50741561,\n",
       "        42.34387604,  1.23961194,  5.04847097, 10.15662249, 15.46615171,\n",
       "        20.23355977, 29.56699586, 49.59851154,  1.44832579,  5.83698098,\n",
       "        11.57294035, 17.64164209, 23.06553229, 34.0073297 , 56.35469818,\n",
       "         1.53401224,  6.64082932, 13.64007386, 19.74411511, 25.31403859,\n",
       "        37.08502388, 44.61071992]),\n",
       " 'std_fit_time': array([0.007365  , 0.05100758, 0.12456194, 0.06226118, 0.21110419,\n",
       "        0.10336825, 0.27814414, 0.01857483, 0.13771795, 0.27564266,\n",
       "        0.13030408, 0.15060293, 0.18438852, 0.4508373 , 0.01866459,\n",
       "        0.12633289, 0.13415784, 0.10449839, 0.09160366, 0.16458835,\n",
       "        0.40405974, 0.06410441, 0.18200014, 0.23409357, 0.11722173,\n",
       "        0.09242222, 0.0997034 , 0.38287007, 0.09463592, 0.18670828,\n",
       "        0.33253682, 0.16650962, 0.08835375, 0.04004514, 0.52428378,\n",
       "        0.02910754, 0.13885997, 0.15008145, 0.14719948, 0.12147606,\n",
       "        0.2303999 , 6.04663362]),\n",
       " 'mean_score_time': array([0.04034265, 0.03067374, 0.03034051, 0.02400621, 0.02767436,\n",
       "        0.03067454, 0.02467219, 0.02100579, 0.0226721 , 0.02233903,\n",
       "        0.02400549, 0.02233887, 0.0230062 , 0.02467211, 0.01800474,\n",
       "        0.01767023, 0.02033981, 0.02100507, 0.02200484, 0.02200691,\n",
       "        0.02467322, 0.02433928, 0.02167273, 0.02233783, 0.0183386 ,\n",
       "        0.02300557, 0.02667387, 0.02467171, 0.01867247, 0.0203383 ,\n",
       "        0.02133902, 0.02200691, 0.02300445, 0.02367202, 0.02367242,\n",
       "        0.0236721 , 0.02333919, 0.02867277, 0.02167225, 0.02133743,\n",
       "        0.02533952, 0.02133814]),\n",
       " 'std_score_time': array([0.00826123, 0.00665312, 0.00170225, 0.00216142, 0.0033993 ,\n",
       "        0.00449924, 0.00377136, 0.00245194, 0.00124711, 0.00684964,\n",
       "        0.00294506, 0.00249502, 0.00355951, 0.00124664, 0.00215969,\n",
       "        0.00124664, 0.00368229, 0.00216042, 0.00215998, 0.00294268,\n",
       "        0.00124719, 0.00047148, 0.00205477, 0.00205598, 0.0024943 ,\n",
       "        0.00216046, 0.00449668, 0.00309182, 0.00464294, 0.00330077,\n",
       "        0.00169991, 0.00454526, 0.00326585, 0.00492251, 0.00249315,\n",
       "        0.00286848, 0.00419059, 0.00262522, 0.00169922, 0.00249506,\n",
       "        0.00402826, 0.00634275]),\n",
       " 'param_max_depth': masked_array(data=[2, 2, 2, 2, 2, 2, 2, 4, 4, 4, 4, 4, 4, 4, 5, 5, 5, 5,\n",
       "                    5, 5, 5, 6, 6, 6, 6, 6, 6, 6, 7, 7, 7, 7, 7, 7, 7, 8,\n",
       "                    8, 8, 8, 8, 8, 8],\n",
       "              mask=[False, False, False, False, False, False, False, False,\n",
       "                    False, False, False, False, False, False, False, False,\n",
       "                    False, False, False, False, False, False, False, False,\n",
       "                    False, False, False, False, False, False, False, False,\n",
       "                    False, False, False, False, False, False, False, False,\n",
       "                    False, False],\n",
       "        fill_value='?',\n",
       "             dtype=object),\n",
       " 'param_n_estimators': masked_array(data=[10, 50, 100, 150, 200, 300, 500, 10, 50, 100, 150, 200,\n",
       "                    300, 500, 10, 50, 100, 150, 200, 300, 500, 10, 50, 100,\n",
       "                    150, 200, 300, 500, 10, 50, 100, 150, 200, 300, 500,\n",
       "                    10, 50, 100, 150, 200, 300, 500],\n",
       "              mask=[False, False, False, False, False, False, False, False,\n",
       "                    False, False, False, False, False, False, False, False,\n",
       "                    False, False, False, False, False, False, False, False,\n",
       "                    False, False, False, False, False, False, False, False,\n",
       "                    False, False, False, False, False, False, False, False,\n",
       "                    False, False],\n",
       "        fill_value='?',\n",
       "             dtype=object),\n",
       " 'params': [{'max_depth': 2, 'n_estimators': 10},\n",
       "  {'max_depth': 2, 'n_estimators': 50},\n",
       "  {'max_depth': 2, 'n_estimators': 100},\n",
       "  {'max_depth': 2, 'n_estimators': 150},\n",
       "  {'max_depth': 2, 'n_estimators': 200},\n",
       "  {'max_depth': 2, 'n_estimators': 300},\n",
       "  {'max_depth': 2, 'n_estimators': 500},\n",
       "  {'max_depth': 4, 'n_estimators': 10},\n",
       "  {'max_depth': 4, 'n_estimators': 50},\n",
       "  {'max_depth': 4, 'n_estimators': 100},\n",
       "  {'max_depth': 4, 'n_estimators': 150},\n",
       "  {'max_depth': 4, 'n_estimators': 200},\n",
       "  {'max_depth': 4, 'n_estimators': 300},\n",
       "  {'max_depth': 4, 'n_estimators': 500},\n",
       "  {'max_depth': 5, 'n_estimators': 10},\n",
       "  {'max_depth': 5, 'n_estimators': 50},\n",
       "  {'max_depth': 5, 'n_estimators': 100},\n",
       "  {'max_depth': 5, 'n_estimators': 150},\n",
       "  {'max_depth': 5, 'n_estimators': 200},\n",
       "  {'max_depth': 5, 'n_estimators': 300},\n",
       "  {'max_depth': 5, 'n_estimators': 500},\n",
       "  {'max_depth': 6, 'n_estimators': 10},\n",
       "  {'max_depth': 6, 'n_estimators': 50},\n",
       "  {'max_depth': 6, 'n_estimators': 100},\n",
       "  {'max_depth': 6, 'n_estimators': 150},\n",
       "  {'max_depth': 6, 'n_estimators': 200},\n",
       "  {'max_depth': 6, 'n_estimators': 300},\n",
       "  {'max_depth': 6, 'n_estimators': 500},\n",
       "  {'max_depth': 7, 'n_estimators': 10},\n",
       "  {'max_depth': 7, 'n_estimators': 50},\n",
       "  {'max_depth': 7, 'n_estimators': 100},\n",
       "  {'max_depth': 7, 'n_estimators': 150},\n",
       "  {'max_depth': 7, 'n_estimators': 200},\n",
       "  {'max_depth': 7, 'n_estimators': 300},\n",
       "  {'max_depth': 7, 'n_estimators': 500},\n",
       "  {'max_depth': 8, 'n_estimators': 10},\n",
       "  {'max_depth': 8, 'n_estimators': 50},\n",
       "  {'max_depth': 8, 'n_estimators': 100},\n",
       "  {'max_depth': 8, 'n_estimators': 150},\n",
       "  {'max_depth': 8, 'n_estimators': 200},\n",
       "  {'max_depth': 8, 'n_estimators': 300},\n",
       "  {'max_depth': 8, 'n_estimators': 500}],\n",
       " 'split0_test_score': array([0.72979183, 0.73532993, 0.72064022, 0.71141005, 0.70141398,\n",
       "        0.68857031, 0.67486253, 0.7141791 , 0.70720738, 0.69497251,\n",
       "        0.67582482, 0.66490573, 0.65343676, 0.64605263, 0.70653967,\n",
       "        0.68886489, 0.68690102, 0.67409662, 0.6634132 , 0.64758445,\n",
       "        0.62782797, 0.71576984, 0.69954831, 0.66667321, 0.66258837,\n",
       "        0.65842498, 0.63976826, 0.62912412, 0.72164179, 0.70445797,\n",
       "        0.67016889, 0.66003535, 0.64817361, 0.63552632, 0.62623723,\n",
       "        0.72252553, 0.68258052, 0.66926551, 0.65869992, 0.65068735,\n",
       "        0.63709741, 0.62802435]),\n",
       " 'split1_test_score': array([0.73440168, 0.728368  , 0.72165528, 0.69895623, 0.68450256,\n",
       "        0.66793419, 0.64799007, 0.73740882, 0.70031429, 0.6595142 ,\n",
       "        0.65606084, 0.64263542, 0.64961974, 0.65113301, 0.72646671,\n",
       "        0.69942185, 0.66572249, 0.65959181, 0.65349992, 0.64942573,\n",
       "        0.65171504, 0.73151094, 0.67336644, 0.65842775, 0.64989135,\n",
       "        0.64899891, 0.64158777, 0.63883284, 0.73996973, 0.66188111,\n",
       "        0.66762378, 0.6658777 , 0.65990222, 0.66190051, 0.66071706,\n",
       "        0.73030809, 0.69544467, 0.69629831, 0.68717989, 0.68617104,\n",
       "        0.68027316, 0.67332764]),\n",
       " 'split2_test_score': array([0.66715236, 0.65866577, 0.65437325, 0.64458709, 0.63411176,\n",
       "        0.62452251, 0.62507384, 0.66549837, 0.66754617, 0.65051392,\n",
       "        0.63773481, 0.63462372, 0.63501752, 0.62861812, 0.68384988,\n",
       "        0.64486276, 0.63462372, 0.63233962, 0.62387272, 0.61713858,\n",
       "        0.61223566, 0.69054464, 0.67172055, 0.64214547, 0.63907376,\n",
       "        0.63678967, 0.62769267, 0.61851691, 0.66878667, 0.65439294,\n",
       "        0.63938881, 0.62237625, 0.61997401, 0.61406687, 0.61316111,\n",
       "        0.68004962, 0.65590911, 0.62332139, 0.61477573, 0.60971528,\n",
       "        0.6086323 , 0.60835663]),\n",
       " 'mean_test_score': array([0.71044862, 0.70745457, 0.69888959, 0.68498446, 0.67334277,\n",
       "        0.66034233, 0.64930881, 0.70569543, 0.69168928, 0.66833354,\n",
       "        0.65654016, 0.64738829, 0.64602468, 0.64193459, 0.70561875,\n",
       "        0.6777165 , 0.66241574, 0.65534268, 0.64692861, 0.63804959,\n",
       "        0.63059289, 0.71260847, 0.6815451 , 0.65574881, 0.65051783,\n",
       "        0.64807119, 0.63634957, 0.62882462, 0.71013273, 0.67357734,\n",
       "        0.65906049, 0.64942976, 0.64268328, 0.63716457, 0.6333718 ,\n",
       "        0.71096108, 0.6779781 , 0.66296174, 0.65355184, 0.64885789,\n",
       "        0.64200096, 0.63656954]),\n",
       " 'std_test_score': array([0.03067287, 0.03461577, 0.03148053, 0.02901419, 0.02858674,\n",
       "        0.02669279, 0.02034753, 0.02996395, 0.01730214, 0.01919161,\n",
       "        0.01555388, 0.01281126, 0.00793769, 0.00964188, 0.01741043,\n",
       "        0.02362751, 0.02146983, 0.01730998, 0.0167978 , 0.01480541,\n",
       "        0.01623554, 0.01687316, 0.01274791, 0.01019101, 0.00961002,\n",
       "        0.00885691, 0.00616625, 0.00829665, 0.03017837, 0.02204886,\n",
       "        0.01394873, 0.01927784, 0.01675656, 0.01956233, 0.02005939,\n",
       "        0.02208741, 0.01646515, 0.03012431, 0.02978218, 0.03123973,\n",
       "        0.02945207, 0.02720384]),\n",
       " 'rank_test_score': array([ 3,  5,  8, 10, 15, 19, 27,  6,  9, 16, 21, 30, 32, 35,  7, 13, 18,\n",
       "        23, 31, 36, 41,  1, 11, 22, 25, 29, 39, 42,  4, 14, 20, 26, 33, 37,\n",
       "        40,  2, 12, 17, 24, 28, 34, 38]),\n",
       " 'split0_train_score': array([0.82838855, 0.90963061, 0.92670771, 0.9394508 , 0.9513779 ,\n",
       "        0.96264536, 0.97330206, 0.89739568, 0.95195935, 0.97936578,\n",
       "        0.99041825, 0.99458126, 0.99776703, 0.99942832, 0.90592202,\n",
       "        0.97230529, 0.99138571, 0.99632073, 0.99862699, 0.9995065 ,\n",
       "        0.99986807, 0.91762435, 0.9770302 , 0.9968582 , 0.99890062,\n",
       "        0.99946741, 0.99981921, 0.99987785, 0.93197498, 0.98384149,\n",
       "        0.9985537 , 0.99946252, 0.99976546, 0.99987296, 0.99987296,\n",
       "        0.94231408, 0.99211864, 0.99921333, 0.99969217, 0.99986807,\n",
       "        0.99987785, 0.99987785]),\n",
       " 'split1_train_score': array([0.83571274, 0.89188937, 0.90575777, 0.9199064 , 0.92760506,\n",
       "        0.9402346 , 0.95690028, 0.87481565, 0.92944369, 0.96821721,\n",
       "        0.98581696, 0.99105756, 0.99590486, 0.99847108, 0.89708572,\n",
       "        0.94885258, 0.98500088, 0.99323049, 0.99647513, 0.9985989 ,\n",
       "        0.99938548, 0.89649578, 0.96749946, 0.99353529, 0.99765501,\n",
       "        0.99887421, 0.99937565, 0.99947397, 0.91106228, 0.98245433,\n",
       "        0.99636698, 0.99874639, 0.99925766, 0.99943464, 0.99944448,\n",
       "        0.93263918, 0.98894362, 0.99806796, 0.99921834, 0.99940515,\n",
       "        0.99943464, 0.99944448]),\n",
       " 'split2_train_score': array([0.84274142, 0.91371688, 0.93215244, 0.94818719, 0.95425267,\n",
       "        0.96329966, 0.97306885, 0.90406968, 0.95367687, 0.97970527,\n",
       "        0.9880203 , 0.99324159, 0.99796516, 0.99926316, 0.91323867,\n",
       "        0.96909676, 0.99169473, 0.99737959, 0.99864832, 0.99949739,\n",
       "        0.99968282, 0.92475967, 0.97844142, 0.99690138, 0.99901918,\n",
       "        0.99952667, 0.99969258, 0.99972186, 0.92507686, 0.99168009,\n",
       "        0.99881423, 0.99948763, 0.99963402, 0.99964378, 0.99965354,\n",
       "        0.9377202 , 0.99471039, 0.999351  , 0.99968282, 0.99970234,\n",
       "        0.99973162, 0.99975113]),\n",
       " 'mean_train_score': array([0.83561424, 0.90507895, 0.92153931, 0.93584813, 0.94441187,\n",
       "        0.95539321, 0.96775707, 0.89209367, 0.94502663, 0.97576275,\n",
       "        0.98808517, 0.99296014, 0.99721235, 0.99905419, 0.90541547,\n",
       "        0.96341821, 0.98936044, 0.9956436 , 0.99791681, 0.99920093,\n",
       "        0.99964546, 0.91295994, 0.97432369, 0.99576496, 0.99852493,\n",
       "        0.99928943, 0.99962915, 0.99969123, 0.92270471, 0.98599197,\n",
       "        0.99791164, 0.99923218, 0.99955238, 0.99965046, 0.99965699,\n",
       "        0.93755782, 0.99192422, 0.99887743, 0.99953111, 0.99965852,\n",
       "        0.99968137, 0.99969115]),\n",
       " 'std_train_score': array([0.00585995, 0.00947447, 0.01137846, 0.01182329, 0.01194202,\n",
       "        0.01072208, 0.0076775 , 0.01251754, 0.01104109, 0.0053373 ,\n",
       "        0.00187903, 0.00145225, 0.00092806, 0.00041779, 0.00660413,\n",
       "        0.01038242, 0.00308525, 0.00176024, 0.00101946, 0.00042571,\n",
       "        0.00019878, 0.01200082, 0.00485973, 0.00157671, 0.00061703,\n",
       "        0.0002946 , 0.00018656, 0.0001663 , 0.00870079, 0.00406178,\n",
       "        0.0010974 , 0.00034366, 0.0002152 , 0.000179  , 0.00017494,\n",
       "        0.00395143, 0.00235828, 0.00057513, 0.0002212 , 0.00019151,\n",
       "        0.00018439, 0.00018194])}"
      ]
     },
     "execution_count": 65,
     "metadata": {},
     "output_type": "execute_result"
    }
   ],
   "source": [
    "clf.cv_results_"
   ]
  },
  {
   "cell_type": "markdown",
   "metadata": {},
   "source": [
    "### 3.2 heatmap"
   ]
  },
  {
   "cell_type": "code",
   "execution_count": 67,
   "metadata": {},
   "outputs": [
    {
     "data": {
      "image/png": "[encoded data removed]",
      "text/plain": [
       "<Figure size 1440x432 with 4 Axes>"
      ]
     },
     "metadata": {},
     "output_type": "display_data"
    }
   ],
   "source": [
    "import seaborn as sns; sns.set()\n",
    "max_scores1 = pd.DataFrame(clf.cv_results_).groupby(['param_n_estimators', 'param_max_depth']).max().unstack()[['mean_test_score', 'mean_train_score']]\n",
    "fig, ax = plt.subplots(1,2, figsize=(20,6))\n",
    "sns.heatmap(max_scores1.mean_train_score, annot = True, fmt='.4g', ax=ax[0])\n",
    "sns.heatmap(max_scores1.mean_test_score, annot = True, fmt='.4g', ax=ax[1])\n",
    "ax[0].set_title('Train Set')\n",
    "ax[1].set_title('CV Set')\n",
    "plt.show() "
   ]
  },
  {
   "cell_type": "code",
   "execution_count": 68,
   "metadata": {},
   "outputs": [
    {
     "name": "stdout",
     "output_type": "stream",
     "text": [
      "XGBClassifier(base_score=0.5, booster='gbtree', class_weight='balanced',\n",
      "              colsample_bylevel=1, colsample_bynode=1, colsample_bytree=1,\n",
      "              gamma=0, gpu_id=-1, importance_type='gain',\n",
      "              interaction_constraints='', learning_rate=0.300000012,\n",
      "              max_delta_step=0, max_depth=6, min_child_weight=1, missing=nan,\n",
      "              monotone_constraints='()', n_estimators=10, n_jobs=-1,\n",
      "              num_parallel_tree=1, random_state=0, reg_alpha=0, reg_lambda=1,\n",
      "              scale_pos_weight=1, subsample=1, tree_method='exact',\n",
      "              validate_parameters=1, verbosity=None)\n",
      "0.9006855870121283\n",
      "0.841984911503628\n"
     ]
    }
   ],
   "source": [
    "# Print params\n",
    "print(clf.best_estimator_)\n",
    "print(clf.score(X_tr_svd, Y_train))\n",
    "print(clf.score(X_te_svd, Y_test))"
   ]
  },
  {
   "cell_type": "code",
   "execution_count": 75,
   "metadata": {},
   "outputs": [],
   "source": [
    "def batch_predict(clf, data):\n",
    "   \n",
    "\n",
    "    data_pred = []\n",
    "    tr_loop = data.shape[0] - data.shape[0]%1000\n",
    "   \n",
    "    for i in range(0, tr_loop, 1000):\n",
    "        data_pred.extend(clf.predict_proba(data[i:i+1000])[:,1])\n",
    "   \n",
    "    data_pred.extend(clf.predict_proba(data[tr_loop:])[:,1])\n",
    "    \n",
    "    return data_pred"
   ]
  },
  {
   "cell_type": "markdown",
   "metadata": {},
   "source": [
    "### 3.3 ROC curve"
   ]
  },
  {
   "cell_type": "code",
   "execution_count": 89,
   "metadata": {},
   "outputs": [
    {
     "name": "stdout",
     "output_type": "stream",
     "text": [
      "[11:19:24] WARNING: C:/Users/Administrator/workspace/xgboost-win64_release_1.4.0/src/learner.cc:573: \n",
      "Parameters: { \"class_weight\" } might not be used.\n",
      "\n",
      "  This may not be accurate due to some parameters are only used in language bindings but\n",
      "  passed down to XGBoost core.  Or some parameters are not used but slip through this\n",
      "  verification. Please open an issue if you find above cases.\n",
      "\n",
      "\n",
      "[11:19:24] WARNING: C:/Users/Administrator/workspace/xgboost-win64_release_1.4.0/src/learner.cc:1095: Starting in XGBoost 1.3.0, the default evaluation metric used with the objective 'binary:logistic' was changed from 'error' to 'logloss'. Explicitly set eval_metric if you'd like to restore the old behavior.\n"
     ]
    },
    {
     "data": {
      "image/png": "[encoded data removed]",
      "text/plain": [
       "<Figure size 432x288 with 1 Axes>"
      ]
     },
     "metadata": {},
     "output_type": "display_data"
    }
   ],
   "source": [
    "from sklearn.metrics import roc_curve, auc\n",
    "import xgboost as xgb\n",
    "\n",
    "gbdt = xgb.XGBClassifier(max_depth = 6, n_estimators = 10,n_jobs=-1,class_weight='balanced')\n",
    "gbdt.fit(X_tr_svd, Y_train)\n",
    "\n",
    "y_train_pred = clf.predict_proba(X_tr_svd)[:,1]\n",
    "y_test_pred = clf.predict_proba(X_te_svd)[:,1]\n",
    "train_fpr, train_tpr, tr_thresholds = roc_curve(Y_train, y_train_pred)\n",
    "test_fpr, test_tpr, te_thresholds = roc_curve(Y_test, y_test_pred)\n",
    "plt.plot(train_fpr, train_tpr, label=\"train AUC =\"+str(auc(train_fpr, train_tpr)))\n",
    "plt.plot(test_fpr, test_tpr, label=\"test AUC =\"+str(auc(test_fpr, test_tpr)))\n",
    "plt.legend()\n",
    "plt.xlabel(\"FALSE POSITIVE RATE (FPR)\")\n",
    "plt.ylabel(\"TRUE POSITIVE RATE (TPR)\")\n",
    "plt.title(\"ROC PLOTS\")\n",
    "plt.grid()\n",
    "plt.show()\n"
   ]
  },
  {
   "cell_type": "markdown",
   "metadata": {},
   "source": [
    "#### observation\n",
    "1.Model perform good on train data than test data"
   ]
  },
  {
   "cell_type": "code",
   "execution_count": 85,
   "metadata": {},
   "outputs": [],
   "source": [
    "def predict(proba, threshould, fpr, tpr):\n",
    "    \n",
    "    t = threshould[np.argmax(tpr*(1-fpr))]\n",
    "\n",
    "    \n",
    "    #(tpr*(1-fpr)) will be maximum if your fpr is very low and tpr is very high\n",
    "    \n",
    "    #print(\"the maximum value of tpr*(1-fpr)\", max(tpr*(1-fpr)), \"for threshold\", np.round(t,3))\n",
    "    predictions = []\n",
    "    for i in proba:\n",
    "        if i>=t:\n",
    "            predictions.append(1)\n",
    "        else:\n",
    "            predictions.append(0)    \n",
    "    return predictions"
   ]
  },
  {
   "cell_type": "code",
   "execution_count": 60,
   "metadata": {},
   "outputs": [],
   "source": [
    "def myplot_matrix1(data):\n",
    "    plt.clf()\n",
    "    plt.imshow(data, interpolation='nearest', cmap=plt.cm.Wistia)\n",
    "    classNames = ['Negative','Positive']\n",
    "    plt.title('Approved not approved matrix')\n",
    "    tick_marks = np.arange(len(classNames))\n",
    "    \n",
    "    plt.xticks(tick_marks, classNames, rotation=45)\n",
    "    plt.yticks(tick_marks, classNames)\n",
    "    s = [['TN','FN'], ['FP', 'TP']]\n",
    "    for i in range(2):\n",
    "        for j in range(2):\n",
    "            plt.text(j,i, str(s[i][j])+\" = \"+str(data[i][j]))\n",
    "    plt.show()"
   ]
  },
  {
   "cell_type": "markdown",
   "metadata": {},
   "source": [
    "### 3.4 confusion matrix"
   ]
  },
  {
   "cell_type": "code",
   "execution_count": 90,
   "metadata": {},
   "outputs": [
    {
     "name": "stdout",
     "output_type": "stream",
     "text": [
      "====================================================================================================\n",
      "Train confusion matrix\n",
      "[[168  34]\n",
      " [229 909]]\n",
      "====================================================================================================\n",
      "Accuracy score  for Train\n",
      "0.8037313432835821\n",
      "====================================================================================================\n",
      "Test confusion matrix\n",
      "[[ 75  24]\n",
      " [151 410]]\n",
      "====================================================================================================\n",
      "Accuracy score  for Test\n",
      "0.7348484848484849\n",
      "====================================================================================================\n"
     ]
    }
   ],
   "source": [
    "from sklearn.metrics import accuracy_score \n",
    "from sklearn.metrics import classification_report\n",
    "\n",
    "y_train_predicted_withthroshold=predict(y_train_pred, tr_thresholds, train_fpr, train_tpr)\n",
    "y_test_predicted_withthroshold=predict(y_test_pred, tr_thresholds, test_fpr, test_tpr)\n",
    "\n",
    "cm_train=confusion_matrix(Y_train,y_train_predicted_withthroshold,labels=[0, 1])\n",
    "\n",
    "\n",
    "\n",
    "print(\"=\"*100)\n",
    "from sklearn.metrics import confusion_matrix\n",
    "print(\"Train confusion matrix\")\n",
    "print(cm_train)\n",
    "print(\"=\"*100)\n",
    "print(\"Accuracy score  for Train\")\n",
    "print(accuracy_score(Y_train, predict(y_train_pred, tr_thresholds, train_fpr, train_tpr)))\n",
    "print(\"=\"*100)\n",
    "\n",
    "cm_test=confusion_matrix(Y_test,y_test_predicted_withthroshold,labels=[0, 1])\n",
    "\n",
    "print(\"Test confusion matrix\")\n",
    "print(cm_test)\n",
    "print(\"=\"*100)\n",
    "print(\"Accuracy score  for Test\")\n",
    "accuracy_score_bow=accuracy_score(Y_test, predict(y_test_pred, tr_thresholds, test_fpr, test_tpr))\n",
    "print(accuracy_score_bow)\n",
    "print(\"=\"*100)\n"
   ]
  },
  {
   "cell_type": "code",
   "execution_count": 91,
   "metadata": {},
   "outputs": [
    {
     "name": "stdout",
     "output_type": "stream",
     "text": [
      "confusion matrix for train data\n",
      "====================================================================================================\n"
     ]
    },
    {
     "data": {
      "image/png": "[encoded data removed]",
      "text/plain": [
       "<Figure size 432x288 with 1 Axes>"
      ]
     },
     "metadata": {},
     "output_type": "display_data"
    },
    {
     "name": "stdout",
     "output_type": "stream",
     "text": [
      "confusion matrix for Test data\n",
      "====================================================================================================\n"
     ]
    },
    {
     "data": {
      "image/png": "[encoded data removed]",
      "text/plain": [
       "<Figure size 432x288 with 1 Axes>"
      ]
     },
     "metadata": {},
     "output_type": "display_data"
    }
   ],
   "source": [
    "print(\"confusion matrix for train data\")\n",
    "print(\"=\"*100)\n",
    "myplot_matrix1(cm_train)\n",
    "print(\"confusion matrix for Test data\")\n",
    "\n",
    "print(\"=\"*100)\n",
    "myplot_matrix1(cm_test)"
   ]
  },
  {
   "cell_type": "markdown",
   "metadata": {},
   "source": [
    "## 4.Model Performance Table"
   ]
  },
  {
   "cell_type": "code",
   "execution_count": 92,
   "metadata": {},
   "outputs": [
    {
     "name": "stdout",
     "output_type": "stream",
     "text": [
      "+------------+---------+-------------------------------+------+\n",
      "| Vectorizer |  Model  |        Hyper Parameter        | AUC  |\n",
      "+------------+---------+-------------------------------+------+\n",
      "|  AVG W2V   | XGBoost | Max Depth:6 , n_estimators:10 | 0.84 |\n",
      "+------------+---------+-------------------------------+------+\n"
     ]
    }
   ],
   "source": [
    "from prettytable import PrettyTable\n",
    "x = PrettyTable()\n",
    "\n",
    "x = PrettyTable()\n",
    "x.field_names = [\"Vectorizer\", \"Model\", \"Hyper Parameter\", \"AUC\"]\n",
    "x.add_row([\"AVG W2V\", \"XGBoost\", \"Max Depth:6 , n_estimators:10\", 0.84])\n",
    "\n",
    "print(x)"
   ]
  },
  {
   "cell_type": "markdown",
   "metadata": {},
   "source": [
    "## 5.Observation\n",
    "\n",
    "1.Using svd we get 84% accuracy in test data\n",
    "\n",
    "2.True postive number in confusion matrix is good for test data\n"
   ]
  }
 ],
 "metadata": {
  "colab": {
   "name": "LogisticRegression.ipynb",
   "provenance": [],
   "version": "0.3.2"
  },
  "kernelspec": {
   "display_name": "Python 3",
   "language": "python",
   "name": "python3"
  },
  "language_info": {
   "codemirror_mode": {
    "name": "ipython",
    "version": 3
   },
   "file_extension": ".py",
   "mimetype": "text/x-python",
   "name": "python",
   "nbconvert_exporter": "python",
   "pygments_lexer": "ipython3",
   "version": "3.8.5"
  }
 },
 "nbformat": 4,
 "nbformat_minor": 1
}
